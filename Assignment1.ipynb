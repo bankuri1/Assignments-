{
 "cells": [
  {
   "cell_type": "markdown",
   "id": "078c4c25-791c-4747-8b4a-6b0b893ebc93",
   "metadata": {
    "tags": []
   },
   "source": [
    "### 1. In the below elements which of them are values or an expression? eg:- values can beinteger or string and expressions will be mathematical operators.\n",
    "\n"
   ]
  },
  {
   "cell_type": "markdown",
   "id": "9294c5f4-ff8f-41cd-96b4-721cbc377b48",
   "metadata": {},
   "source": [
    " (i) * = expression ,"
   ]
  },
  {
   "cell_type": "markdown",
   "id": "46f6008c-ad0f-4e8b-9da9-053a7cfe6b70",
   "metadata": {},
   "source": [
    " (ii) 'hello' =  Values (String),"
   ]
  },
  {
   "cell_type": "markdown",
   "id": "c3e4a550-d472-4d89-b0cf-705477d8d1b2",
   "metadata": {},
   "source": [
    " (iii) -87.8 = Value(Float),"
   ]
  },
  {
   "cell_type": "markdown",
   "id": "8cb63d14-fdb7-449e-8400-d8a2625f8b32",
   "metadata": {},
   "source": [
    " (iv) - = Expression,"
   ]
  },
  {
   "cell_type": "markdown",
   "id": "c35d048e-e658-4742-bb6c-114a37df0648",
   "metadata": {},
   "source": [
    " (v) / = Expression,"
   ]
  },
  {
   "cell_type": "markdown",
   "id": "79ca160c-d5f3-43c5-adfc-c1b5b068b290",
   "metadata": {},
   "source": [
    "\n",
    "(vi) + = Expression,"
   ]
  },
  {
   "cell_type": "markdown",
   "id": "890a2923-4da3-4777-9245-7d15174e867b",
   "metadata": {},
   "source": [
    " (vii) 6 =Value (Integer),\n",
    " "
   ]
  },
  {
   "cell_type": "markdown",
   "id": "afbcdd06-3a89-4970-9b7a-db39f4d0832f",
   "metadata": {},
   "source": [
    "### 2. What is the difference between string and variable?"
   ]
  },
  {
   "cell_type": "markdown",
   "id": "339e4a7b-d551-4cf3-ad17-8b92574032ec",
   "metadata": {},
   "source": [
    "String is a DataType or type of information you store ,It is a collection of one or more character. Strings always start and end with quotes. while variables are the containers for storing the data.\n",
    "for example \"bankuri\" is string and bankuri is variable  "
   ]
  },
  {
   "cell_type": "markdown",
   "id": "7acf5e9b-88ab-4cef-8f46-ca842eff7d88",
   "metadata": {},
   "source": [
    "### 3. Describe three different data types."
   ]
  },
  {
   "cell_type": "markdown",
   "id": "208f4476-6c37-4aa1-b496-beafdc5b1418",
   "metadata": {},
   "source": [
    " 1- Integer- Contain positive and negative whole numbers (without fraction or decimal) eg: 12, -54, -90, 345,etc"
   ]
  },
  {
   "cell_type": "markdown",
   "id": "b6be3c2b-7bf0-45a4-ace6-fd02c96ac808",
   "metadata": {},
   "source": [
    "2- Float = Numbers Containing decimal points\n",
    "eg: 12.45, 98.67, 89.43 , etc"
   ]
  },
  {
   "cell_type": "markdown",
   "id": "7c36a277-ec71-435f-b95b-d0c8715110db",
   "metadata": {},
   "source": [
    "3-Complex- Numbers containg Imaginary numbers\n",
    "eg: 2+3j, 5+8j"
   ]
  },
  {
   "cell_type": "markdown",
   "id": "0ca76d2f-ae77-4ebd-8a84-c1803d2bacc1",
   "metadata": {},
   "source": [
    "4- String - It is a collection of one or more Character eg: \"My Name is Bankuri\""
   ]
  },
  {
   "cell_type": "markdown",
   "id": "84e72ff0-704a-4fd1-bd0d-502c5d65149e",
   "metadata": {},
   "source": [
    "### 4. What is an expression made up of? What do all expressions do?"
   ]
  },
  {
   "cell_type": "markdown",
   "id": "01014d84-e256-443a-ab67-bf77436fdc04",
   "metadata": {},
   "source": [
    "Expression is made  up of Operators and Operands . Expressions are interpreted to produce some value.   "
   ]
  },
  {
   "cell_type": "markdown",
   "id": "3d90ba9b-ba24-4d17-b091-dce081d4391c",
   "metadata": {},
   "source": [
    "eg : 10+1"
   ]
  },
  {
   "cell_type": "markdown",
   "id": "d8633e66-6bc6-4cc3-a6ac-6c950ceefd17",
   "metadata": {},
   "source": [
    "### 5. This assignment statements, like spam = 10. What is the difference between an expression and a statement?\n"
   ]
  },
  {
   "cell_type": "markdown",
   "id": "1e469312-ef7b-4c7a-a887-480ca516aab1",
   "metadata": {},
   "source": [
    "Expression is made up of Operators and Operands It is a piece of code which is helpful to produce some results while a Statement is complete line of code that performs some Action\n",
    "For example \n",
    "10+1 is Expression \n",
    "while\n",
    "10+1=11 is a Statement \n",
    "therefore spam =10 is also a Statement."
   ]
  },
  {
   "cell_type": "markdown",
   "id": "578923d5-de04-4378-bdb3-75b57fbaa419",
   "metadata": {},
   "source": [
    "### 6. After running the following code, what does the variable bacon contain? "
   ]
  },
  {
   "cell_type": "markdown",
   "id": "05decb08-6609-4215-a96e-a2544c41c935",
   "metadata": {},
   "source": [
    "### bacon = 22 "
   ]
  },
  {
   "cell_type": "markdown",
   "id": "096e50e8-4d14-46b5-b0c0-3e4f9dfcbe28",
   "metadata": {},
   "source": [
    "### bacon + 1"
   ]
  },
  {
   "cell_type": "markdown",
   "id": "ff744536-d1cd-42cd-ad9f-a0b5284c8c8f",
   "metadata": {},
   "source": [
    " bacon will contain 22 Because for assigning the value we need a assignment Operator "
   ]
  },
  {
   "cell_type": "markdown",
   "id": "afd20379-4119-4243-869b-4fe4b4963262",
   "metadata": {},
   "source": [
    "### 7. What should the values of the following two terms be?\n",
    "### &#39;spam&#39; + &#39;spamspam&#39;\n",
    "### &#39;spam&#39; * 3"
   ]
  },
  {
   "cell_type": "markdown",
   "id": "a035cd00-dad5-4725-8cd9-de85ddef8e95",
   "metadata": {},
   "source": [
    "both values will be 'spamspamspam'"
   ]
  },
  {
   "cell_type": "markdown",
   "id": "ef0df98e-4062-44ea-b776-351f13ef99cc",
   "metadata": {},
   "source": [
    "### 8. Why is eggs a valid variable name while 100 is invalid?\n"
   ]
  },
  {
   "cell_type": "markdown",
   "id": "108723dc-9aa8-45ab-bfd3-af340433861b",
   "metadata": {},
   "source": [
    "eggs is valid variable name while 100 is invalid because variable name cannot start with numbers"
   ]
  },
  {
   "cell_type": "markdown",
   "id": "646ddadd-1da0-47be-b1b8-7d72125cadcf",
   "metadata": {},
   "source": [
    "### 9. What three functions can be used to get the integer, floating-point number, or string\n",
    "### version of a value?"
   ]
  },
  {
   "cell_type": "raw",
   "id": "aa48589b-3599-49fc-8e0e-2b11b022c3ed",
   "metadata": {},
   "source": [
    "For integer - int()"
   ]
  },
  {
   "cell_type": "markdown",
   "id": "ef7cc2fb-a903-4c23-900e-9a4169c4dd82",
   "metadata": {},
   "source": [
    "for floating-point -float()"
   ]
  },
  {
   "cell_type": "markdown",
   "id": "6ef77c46-ff30-4893-a52e-08a6487f2008",
   "metadata": {},
   "source": [
    "for string - str()"
   ]
  },
  {
   "cell_type": "markdown",
   "id": "fc6dda13-c1e7-48d8-9410-29c0ebf6f32a",
   "metadata": {},
   "source": [
    "### 10. Why does this expression cause an error? How can you fix it?\n",
    "### 'I have eaten' + 99 +  'burritos';"
   ]
  },
  {
   "cell_type": "raw",
   "id": "bc8e85b7-3d1b-41c2-ac4d-95aa0a8ee7be",
   "metadata": {},
   "source": [
    "This cause an error because we cannot concatinate String with int we have to make 99 also string by putting quotes.\n",
    "or we have to do typecasting "
   ]
  },
  {
   "cell_type": "markdown",
   "id": "a2ddf202-b1dd-4627-b779-969886e337ad",
   "metadata": {},
   "source": [
    "Correct way = 'I have eaten '+ str(99)+'burritos'"
   ]
  },
  {
   "cell_type": "markdown",
   "id": "d5134bc4-c2e5-4c9a-ab98-f38b486fdd17",
   "metadata": {},
   "source": [
    "'I have eaten '+'99'+'burritos'"
   ]
  }
 ],
 "metadata": {
  "kernelspec": {
   "display_name": "Python 3 (ipykernel)",
   "language": "python",
   "name": "python3"
  },
  "language_info": {
   "codemirror_mode": {
    "name": "ipython",
    "version": 3
   },
   "file_extension": ".py",
   "mimetype": "text/x-python",
   "name": "python",
   "nbconvert_exporter": "python",
   "pygments_lexer": "ipython3",
   "version": "3.9.12"
  }
 },
 "nbformat": 4,
 "nbformat_minor": 5
}
