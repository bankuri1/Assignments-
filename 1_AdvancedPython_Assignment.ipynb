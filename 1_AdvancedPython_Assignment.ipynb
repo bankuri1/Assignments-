{
 "cells": [
  {
   "cell_type": "markdown",
   "id": "4f9c47aa-0811-41f6-ae1b-a443fcb4a7ed",
   "metadata": {},
   "source": [
    "#### Q1. What is the purpose of Python&#39;s OOP?"
   ]
  },
  {
   "cell_type": "markdown",
   "id": "bbc11afa-0996-4435-81cd-34b961775a7b",
   "metadata": {},
   "source": [
    "The main purpose pf Python's OOP is to make the more structured modules and OOP increses the reusability of code .It main purpose is to bind the data and function together in a single entity so that no other part of the code can access it directly. "
   ]
  },
  {
   "cell_type": "markdown",
   "id": "33c0a96c-27b4-4da9-8b70-13735f76d055",
   "metadata": {},
   "source": [
    "#### Q2. Where does an inheritance search look for an attribute?"
   ]
  },
  {
   "cell_type": "markdown",
   "id": "5e7280e3-b183-426c-8865-1624b50fec6a",
   "metadata": {},
   "source": [
    "An inheritance search look for an attribute first in the instance object then in the class the instance was created from, then in all higher superclasses."
   ]
  },
  {
   "cell_type": "markdown",
   "id": "5f8ac128-9b93-49a1-944a-1e5b779d6ca6",
   "metadata": {},
   "source": [
    "#### Q3. How do you distinguish between a class object and an instance object?"
   ]
  },
  {
   "cell_type": "markdown",
   "id": "02f1aeb9-a586-4b4d-b990-6784a70a5975",
   "metadata": {},
   "source": [
    "Instance object inherit the attributes from class objects .Class is like a blueprint for instances. class object is like a factory for creating multiple instances."
   ]
  },
  {
   "cell_type": "markdown",
   "id": "b1a58074-77dc-4172-a9dd-7cc625385049",
   "metadata": {},
   "source": [
    "#### Q4. What makes the first argument in a class’s method function special?"
   ]
  },
  {
   "cell_type": "markdown",
   "id": "1f67ab35-8ced-42d8-a1b8-7169b6a3d3de",
   "metadata": {},
   "source": [
    "The first argument in the class's method function special because it is a pointer which helps to receive data and give it to class .Class only consider that argument value which are received using pointer."
   ]
  },
  {
   "cell_type": "markdown",
   "id": "c740be25-f7e3-4bf4-ab12-9cf4c0313bc8",
   "metadata": {},
   "source": [
    "#### Q5. What is the purpose of the __init__ method?"
   ]
  },
  {
   "cell_type": "markdown",
   "id": "142e794f-2470-4bef-92f6-e739d32532ba",
   "metadata": {},
   "source": [
    "In python init method is construtor it is used to initialize values.Constructor generally is a kind of method/entity/function which helps the class to take an input, It is responsible for providing data to a particular class at the time of creation of an object .\n"
   ]
  },
  {
   "cell_type": "markdown",
   "id": "a0bdd242-0e1b-481c-af18-8f6a349a5a05",
   "metadata": {},
   "source": [
    "#### Q6. What is the process for creating a class instance?"
   ]
  },
  {
   "cell_type": "markdown",
   "id": "55823be0-64c9-47e1-b00a-5f043263890f",
   "metadata": {},
   "source": [
    "For creating an instance of a class you call it by using class name and passing arguments which init method accepts."
   ]
  },
  {
   "cell_type": "markdown",
   "id": "34c23fcc-b94d-49e5-b7bd-cfac10821422",
   "metadata": {},
   "source": [
    "#### Q7. What is the process for creating a class?"
   ]
  },
  {
   "cell_type": "markdown",
   "id": "8933ba63-3d99-451e-bddd-10341042b99a",
   "metadata": {},
   "source": [
    "for creating a class is use Class keyord and after that give some name to the class.\n",
    "\n",
    "\n"
   ]
  },
  {
   "cell_type": "markdown",
   "id": "d35a5b23-7227-4096-8cb8-4479234a211c",
   "metadata": {},
   "source": [
    "syntax:"
   ]
  },
  {
   "cell_type": "markdown",
   "id": "2cb84713-3d61-4441-a6ad-e41af0957150",
   "metadata": {},
   "source": [
    "class test:                                                                         \n",
    "                   #code here\n",
    "   \n"
   ]
  },
  {
   "cell_type": "markdown",
   "id": "fc0e02a6-f386-40e6-af57-f0f920c397cb",
   "metadata": {},
   "source": [
    "#### Q8. How would you define the superclasses of a class?"
   ]
  },
  {
   "cell_type": "markdown",
   "id": "9720b1e1-9bd0-490e-80bb-c7ad7b06b3c3",
   "metadata": {},
   "source": [
    "A superclass is a parent class from which many subclasses can be created .A class inherit the characteristics of superclass.It is a base class."
   ]
  },
  {
   "cell_type": "markdown",
   "id": "01a2f809-6ccd-4772-8447-b4fe0e99e91f",
   "metadata": {},
   "source": []
  }
 ],
 "metadata": {
  "kernelspec": {
   "display_name": "Python 3 (ipykernel)",
   "language": "python",
   "name": "python3"
  },
  "language_info": {
   "codemirror_mode": {
    "name": "ipython",
    "version": 3
   },
   "file_extension": ".py",
   "mimetype": "text/x-python",
   "name": "python",
   "nbconvert_exporter": "python",
   "pygments_lexer": "ipython3",
   "version": "3.9.12"
  }
 },
 "nbformat": 4,
 "nbformat_minor": 5
}
