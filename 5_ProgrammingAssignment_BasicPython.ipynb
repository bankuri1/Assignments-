{
 "cells": [
  {
   "cell_type": "markdown",
   "id": "f0abd23a-59da-44e2-901d-47e5c6d19c7c",
   "metadata": {},
   "source": [
    "### 1. Write a Python Program to Find LCM?"
   ]
  },
  {
   "cell_type": "code",
   "execution_count": 4,
   "id": "3931a950-fbf0-4e9c-8542-53091a06d7c2",
   "metadata": {},
   "outputs": [],
   "source": [
    "def lcm(x,y):\n",
    "    if x>y:\n",
    "        greater = x\n",
    "    else: \n",
    "        greater=y\n",
    "    while True:\n",
    "        if (greater%x==0) and (greater%y==0):\n",
    "            lcm=greater\n",
    "            break\n",
    "        else:\n",
    "            greater+=1\n",
    "    print(f\"LCM of {x} and {y} is {lcm}\")"
   ]
  },
  {
   "cell_type": "code",
   "execution_count": 6,
   "id": "1496a936-c73b-43b6-9840-cb4e1ae9f17d",
   "metadata": {},
   "outputs": [
    {
     "name": "stdout",
     "output_type": "stream",
     "text": [
      "LCM of 6 and 36 is 36\n",
      "LCM of 2 and 7 is 14\n",
      "LCM of 5 and 24 is 120\n"
     ]
    }
   ],
   "source": [
    "lcm(6,36)\n",
    "lcm(2,7)\n",
    "lcm(5,24)"
   ]
  },
  {
   "cell_type": "markdown",
   "id": "772a7061-9151-4516-a974-08d60c081d73",
   "metadata": {},
   "source": [
    "### 2. Write a Python Program to Find HCF?"
   ]
  },
  {
   "cell_type": "code",
   "execution_count": 12,
   "id": "a29910dc-7960-4921-8fa0-13702ce0aa95",
   "metadata": {},
   "outputs": [],
   "source": [
    "def hcf(x,y):\n",
    "    if x>y:\n",
    "        small = y\n",
    "    else:\n",
    "        small= x\n",
    "    for ele in range(1,small+1):\n",
    "        if (x%ele==0) and (y%ele==0):\n",
    "            hcf=ele\n",
    "           \n",
    "    print(f\"The hcf of {x} and {y} is {hcf}\")\n",
    "        "
   ]
  },
  {
   "cell_type": "code",
   "execution_count": 13,
   "id": "5c9559e3-7a96-4520-88a3-d8028bc94394",
   "metadata": {},
   "outputs": [
    {
     "name": "stdout",
     "output_type": "stream",
     "text": [
      "The hcf of 6 and 36 is 6\n",
      "The hcf of 10 and 23 is 1\n",
      "The hcf of 5 and 9 is 1\n"
     ]
    }
   ],
   "source": [
    "hcf(6,36)\n",
    "hcf(10,23)\n",
    "hcf(5,9)"
   ]
  },
  {
   "cell_type": "markdown",
   "id": "390a350e-dfad-4bae-8d4d-582dada0c88d",
   "metadata": {},
   "source": [
    "### 3. Write a Python Program to Convert Decimal to Binary, Octal and Hexadecimal?"
   ]
  },
  {
   "cell_type": "code",
   "execution_count": 14,
   "id": "8ce2c5b2-1099-4d26-be0c-9de6d6c26393",
   "metadata": {},
   "outputs": [],
   "source": [
    "def DecimalToOther(num):\n",
    "    print(f\"Binary number->{bin(num)}\")\n",
    "    print(f\"Octal number->{oct(num)}\")\n",
    "    print(f\"Hexadecimal number->{hex(num)}\")"
   ]
  },
  {
   "cell_type": "code",
   "execution_count": 15,
   "id": "f84a3601-0fa4-4c69-a29e-6ea3548297e4",
   "metadata": {},
   "outputs": [
    {
     "name": "stdout",
     "output_type": "stream",
     "text": [
      "Binary number->0b11010010110001011001001011\n",
      "Octal number->0o322613113\n",
      "Hexadecimal number->0x34b164b\n"
     ]
    }
   ],
   "source": [
    "DecimalToOther(55252555)"
   ]
  },
  {
   "cell_type": "markdown",
   "id": "f1f40725-7deb-40b5-b622-0f006ae2e55d",
   "metadata": {},
   "source": [
    "### 4. Write a Python Program To Find ASCII value of a character?"
   ]
  },
  {
   "cell_type": "code",
   "execution_count": 16,
   "id": "447f3fac-316b-424b-b6d0-79d102ec4a33",
   "metadata": {},
   "outputs": [],
   "source": [
    "def charToAscii():\n",
    "    char = input('Enter a Character: ')\n",
    "    if len(char) > 1:\n",
    "        print('Please Enter a Single Character')\n",
    "    else:\n",
    "        print(f'Ascii Character of {char} is {ord(char)}')"
   ]
  },
  {
   "cell_type": "code",
   "execution_count": 18,
   "id": "2e3daa4a-ac80-4ebd-aa21-8cd0eb86c802",
   "metadata": {},
   "outputs": [
    {
     "name": "stdin",
     "output_type": "stream",
     "text": [
      "Enter a Character:  B\n"
     ]
    },
    {
     "name": "stdout",
     "output_type": "stream",
     "text": [
      "Ascii Character of B is 66\n"
     ]
    },
    {
     "name": "stdin",
     "output_type": "stream",
     "text": [
      "Enter a Character:  T\n"
     ]
    },
    {
     "name": "stdout",
     "output_type": "stream",
     "text": [
      "Ascii Character of T is 84\n"
     ]
    }
   ],
   "source": [
    "charToAscii()\n",
    "charToAscii()"
   ]
  },
  {
   "cell_type": "markdown",
   "id": "fa233908-4af9-4ad6-9b60-20a2db7777c4",
   "metadata": {},
   "source": [
    "### 5. Write a Python Program to Make a Simple Calculator with 4 basic mathematical operations?"
   ]
  },
  {
   "cell_type": "code",
   "execution_count": 26,
   "id": "6b82cd34-455b-4df9-b119-471b41787fcb",
   "metadata": {},
   "outputs": [
    {
     "name": "stdout",
     "output_type": "stream",
     "text": [
      "Select a Airthmetic operation:         \n",
      "1.Addition(+)        \n",
      "2.Division(-)        \n",
      "2.Multiplication(*)        \n",
      "4.Division(/)        \n",
      "3.Stop(0)\n",
      "\n"
     ]
    },
    {
     "name": "stdin",
     "output_type": "stream",
     "text": [
      "Enter a airthmetic operation-> *\n",
      "Enter first Number : 7\n",
      "Enter second Number : 8\n"
     ]
    },
    {
     "name": "stdout",
     "output_type": "stream",
     "text": [
      "7*8=56\n",
      "\n"
     ]
    },
    {
     "name": "stdin",
     "output_type": "stream",
     "text": [
      "Enter a airthmetic operation-> +\n",
      "Enter first Number : 2\n",
      "Enter second Number : 9\n"
     ]
    },
    {
     "name": "stdout",
     "output_type": "stream",
     "text": [
      "2+9=11\n",
      "\n"
     ]
    },
    {
     "name": "stdin",
     "output_type": "stream",
     "text": [
      "Enter a airthmetic operation-> 0\n"
     ]
    },
    {
     "name": "stdout",
     "output_type": "stream",
     "text": [
      "Program Stopped Successfully!\n"
     ]
    }
   ],
   "source": [
    "import operator\n",
    "ops ={\"+\":operator.add,\"-\":operator.sub,\"*\":operator.mul,\"/\":operator.truediv}\n",
    "print('Select a Airthmetic operation:\\\n",
    "         \\n1.Addition(+)\\\n",
    "        \\n2.Division(-)\\\n",
    "        \\n2.Multiplication(*)\\\n",
    "        \\n4.Division(/)\\\n",
    "        \\n3.Stop(0)\\n')\n",
    "while True:\n",
    "    operator=input('Enter a airthmetic operation->')\n",
    "    if operator =='0':\n",
    "        print(\"Program Stopped Successfully!\")\n",
    "        break\n",
    "    elif operator not in ['+','-','*','/']:\n",
    "        print('please enter a valid operator')\n",
    "    else:\n",
    "        num1=int(input(\"Enter first Number :\"))\n",
    "        num2=int(input(\"Enter second Number :\"))\n",
    "        print(f\"{num1}{operator}{num2}={ops[operator](num1,num2)}\\n\")"
   ]
  },
  {
   "cell_type": "code",
   "execution_count": null,
   "id": "7c347c08-cbd1-4c0b-b5ce-252a7d69f693",
   "metadata": {},
   "outputs": [],
   "source": []
  }
 ],
 "metadata": {
  "kernelspec": {
   "display_name": "Python 3 (ipykernel)",
   "language": "python",
   "name": "python3"
  },
  "language_info": {
   "codemirror_mode": {
    "name": "ipython",
    "version": 3
   },
   "file_extension": ".py",
   "mimetype": "text/x-python",
   "name": "python",
   "nbconvert_exporter": "python",
   "pygments_lexer": "ipython3",
   "version": "3.9.12"
  }
 },
 "nbformat": 4,
 "nbformat_minor": 5
}
