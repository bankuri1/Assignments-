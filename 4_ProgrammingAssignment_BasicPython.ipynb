{
 "cells": [
  {
   "cell_type": "markdown",
   "id": "1fab83f9-acc5-4aae-ad39-813af1baf432",
   "metadata": {},
   "source": [
    "### 1. Write a Python Program to Find the Factorial of a Number?\n"
   ]
  },
  {
   "cell_type": "code",
   "execution_count": 14,
   "id": "0b4dc1e9-7439-4dc9-b55e-d7afca38ba62",
   "metadata": {},
   "outputs": [],
   "source": [
    "def fac():\n",
    "    num = int(input(\"Enter number :\"))\n",
    "    fact=1\n",
    "    if num<0:\n",
    "        print(\"factorail doesn't exist \")\n",
    "    elif num ==0:\n",
    "        print(\"1\")\n",
    "    else:\n",
    "        for i in range (1,num+1):\n",
    "            fact=fact*i\n",
    "        print(f\"factorial of {num} is :\",fact)"
   ]
  },
  {
   "cell_type": "code",
   "execution_count": 24,
   "id": "d044dadb-164b-45f2-a51d-1f2780630cba",
   "metadata": {},
   "outputs": [
    {
     "name": "stdin",
     "output_type": "stream",
     "text": [
      "Enter number : 5\n"
     ]
    },
    {
     "name": "stdout",
     "output_type": "stream",
     "text": [
      "factorial of 5 is : 120\n"
     ]
    }
   ],
   "source": [
    "fac()"
   ]
  },
  {
   "cell_type": "code",
   "execution_count": 25,
   "id": "250594a8-6723-407e-91cf-dca67ed98fcf",
   "metadata": {},
   "outputs": [
    {
     "name": "stdin",
     "output_type": "stream",
     "text": [
      "Enter number : 8\n"
     ]
    },
    {
     "name": "stdout",
     "output_type": "stream",
     "text": [
      "factorial of 8 is : 40320\n"
     ]
    }
   ],
   "source": [
    "fac()"
   ]
  },
  {
   "cell_type": "markdown",
   "id": "dc91777e-37dc-450a-b03a-06faf787201f",
   "metadata": {},
   "source": [
    "### 2. Write a Python Program to Display the multiplication Table?"
   ]
  },
  {
   "cell_type": "code",
   "execution_count": 26,
   "id": "9592d6ab-7d8a-4317-a7d1-cc9fefd2873a",
   "metadata": {},
   "outputs": [],
   "source": [
    "def multiplication():\n",
    "    num =int(input(\"Enter Number of multiplication table\"))\n",
    "    count=int(input(\"Enter count till you want multiplication\"))\n",
    "    for  i in range(1,count+1):\n",
    "        result= num * i\n",
    "        print(f\"{num} * {i} =\",result)"
   ]
  },
  {
   "cell_type": "code",
   "execution_count": 27,
   "id": "6ce96efe-fd78-48e6-8515-efc94307307c",
   "metadata": {},
   "outputs": [
    {
     "name": "stdin",
     "output_type": "stream",
     "text": [
      "Enter Number of multiplication table 16\n",
      "Enter count till you want multiplication 10\n"
     ]
    },
    {
     "name": "stdout",
     "output_type": "stream",
     "text": [
      "16 * 1 = 16\n",
      "16 * 2 = 32\n",
      "16 * 3 = 48\n",
      "16 * 4 = 64\n",
      "16 * 5 = 80\n",
      "16 * 6 = 96\n",
      "16 * 7 = 112\n",
      "16 * 8 = 128\n",
      "16 * 9 = 144\n",
      "16 * 10 = 160\n"
     ]
    }
   ],
   "source": [
    "multiplication()"
   ]
  },
  {
   "cell_type": "markdown",
   "id": "c81075df-f4fa-46d0-a4c6-f82d5e062ef9",
   "metadata": {},
   "source": [
    "### 3. Write a Python Program to Print the Fibonacci sequence?\n"
   ]
  },
  {
   "cell_type": "code",
   "execution_count": 33,
   "id": "21f27bca-919f-4ca2-89de-d527335b599e",
   "metadata": {},
   "outputs": [],
   "source": [
    "def fibonacci():\n",
    "    l=[]\n",
    "    num = int(input('Enter number'))\n",
    "    n1=0\n",
    "    n2=1\n",
    "    for i in range(1,num+1):\n",
    "        result= n1+n2\n",
    "        l.append(result)\n",
    "        n1=n2\n",
    "        n2=result\n",
    "    print(l)"
   ]
  },
  {
   "cell_type": "code",
   "execution_count": 34,
   "id": "6cb09611-34c7-4d7f-bdfd-2e48df72b48e",
   "metadata": {},
   "outputs": [
    {
     "name": "stdin",
     "output_type": "stream",
     "text": [
      "Enter number 10\n"
     ]
    },
    {
     "name": "stdout",
     "output_type": "stream",
     "text": [
      "[1, 2, 3, 5, 8, 13, 21, 34, 55, 89]\n"
     ]
    }
   ],
   "source": [
    "fibonacci()"
   ]
  },
  {
   "cell_type": "markdown",
   "id": "3925a24d-4d14-4af4-aeb8-5f074fe8dd2e",
   "metadata": {},
   "source": [
    "### 4. Write a Python Program to Check Armstrong Number?"
   ]
  },
  {
   "cell_type": "code",
   "execution_count": 10,
   "id": "a3c01e72-2fdc-4424-b327-6dbdad3f1218",
   "metadata": {},
   "outputs": [],
   "source": [
    "def armstrong():\n",
    "    n=int(input(\"Enter number to check armstrong number\"))\n",
    "    s=n\n",
    "    b = len(str(n))\n",
    "    sum=0\n",
    "    while n != 0:\n",
    "        r = n % 10\n",
    "        sum = sum+(r**b)\n",
    "        n = n//10\n",
    "    if s == sum:\n",
    "        print(\"The given number\", s, \"is armstrong number\")\n",
    "    else:\n",
    "        print(\"The given number\", s, \"is not armstrong number\")"
   ]
  },
  {
   "cell_type": "code",
   "execution_count": 11,
   "id": "97632f3c-3e45-482e-8e19-1e07dbd65b22",
   "metadata": {},
   "outputs": [
    {
     "name": "stdin",
     "output_type": "stream",
     "text": [
      "Enter number to check armstrong number 371\n"
     ]
    },
    {
     "name": "stdout",
     "output_type": "stream",
     "text": [
      "The given number 371 is armstrong number\n"
     ]
    }
   ],
   "source": [
    "armstrong()"
   ]
  },
  {
   "cell_type": "code",
   "execution_count": 12,
   "id": "2e28bb5c-6cfb-4930-b5a5-dd7ddca9e5d6",
   "metadata": {},
   "outputs": [
    {
     "name": "stdin",
     "output_type": "stream",
     "text": [
      "Enter number to check armstrong number 9714\n"
     ]
    },
    {
     "name": "stdout",
     "output_type": "stream",
     "text": [
      "The given number 9714 is not armstrong number\n"
     ]
    }
   ],
   "source": [
    "armstrong()"
   ]
  },
  {
   "cell_type": "code",
   "execution_count": 13,
   "id": "8630e02e-c236-4341-9f0e-9b8a1bc877b8",
   "metadata": {},
   "outputs": [
    {
     "name": "stdin",
     "output_type": "stream",
     "text": [
      "Enter number to check armstrong number 9474\n"
     ]
    },
    {
     "name": "stdout",
     "output_type": "stream",
     "text": [
      "The given number 9474 is armstrong number\n"
     ]
    }
   ],
   "source": [
    "armstrong()"
   ]
  },
  {
   "cell_type": "markdown",
   "id": "86b9c376-6dbf-43eb-89e8-91bc77f7e54b",
   "metadata": {},
   "source": [
    "### 5. Write a Python Program to Find Armstrong Number in an Interval?"
   ]
  },
  {
   "cell_type": "code",
   "execution_count": 15,
   "id": "47aa7071-a994-4c7b-afd9-d08365a23cae",
   "metadata": {},
   "outputs": [],
   "source": [
    "def arm():\n",
    "    lower=int(input(\"Enter starting range\"))\n",
    "    upper=int(input(\"Enter ending range\"))\n",
    "    l1=[]\n",
    "    for i in range(lower,upper+1):\n",
    "        s=i\n",
    "        b=len(str(i))\n",
    "        sum =0\n",
    "        while i!=0:\n",
    "            rem =i%10\n",
    "            sum =sum+(rem**b)\n",
    "            i=i//10\n",
    "        if s==sum :\n",
    "            l1.append(s)\n",
    "    return l1"
   ]
  },
  {
   "cell_type": "code",
   "execution_count": 17,
   "id": "370c54d3-dc1d-45dd-91b6-e6541bcbde83",
   "metadata": {},
   "outputs": [
    {
     "name": "stdin",
     "output_type": "stream",
     "text": [
      "Enter starting range 100\n",
      "Enter ending range 2000\n"
     ]
    },
    {
     "data": {
      "text/plain": [
       "[153, 370, 371, 407, 1634]"
      ]
     },
     "execution_count": 17,
     "metadata": {},
     "output_type": "execute_result"
    }
   ],
   "source": [
    "arm()"
   ]
  },
  {
   "cell_type": "markdown",
   "id": "f10b6097-b286-4182-9f4b-da58ef73ee96",
   "metadata": {},
   "source": [
    "### 6. Write a Python Program to Find the Sum of Natural Numbers?"
   ]
  },
  {
   "cell_type": "code",
   "execution_count": 26,
   "id": "fe996b54-ab96-4e26-9e49-ff0451ae9043",
   "metadata": {},
   "outputs": [],
   "source": [
    "def sum():\n",
    "    num =int(input(\"Enter number where you want sum \"))\n",
    "    sum =0\n",
    "    if num<0:\n",
    "        print(\"Please Enter positive number\")\n",
    "    else:\n",
    "        while num > 0:\n",
    "            sum = sum +num\n",
    "            num=num-1\n",
    "    print(sum)"
   ]
  },
  {
   "cell_type": "code",
   "execution_count": 28,
   "id": "4be5059f-82a7-402d-8e3e-16a93bbd1507",
   "metadata": {},
   "outputs": [
    {
     "name": "stdin",
     "output_type": "stream",
     "text": [
      "Enter number where you want sum  100\n"
     ]
    },
    {
     "name": "stdout",
     "output_type": "stream",
     "text": [
      "5050\n"
     ]
    }
   ],
   "source": [
    "sum()"
   ]
  },
  {
   "cell_type": "code",
   "execution_count": null,
   "id": "d3864626-e802-4e02-8036-9352891650b3",
   "metadata": {},
   "outputs": [],
   "source": []
  }
 ],
 "metadata": {
  "kernelspec": {
   "display_name": "Python 3 (ipykernel)",
   "language": "python",
   "name": "python3"
  },
  "language_info": {
   "codemirror_mode": {
    "name": "ipython",
    "version": 3
   },
   "file_extension": ".py",
   "mimetype": "text/x-python",
   "name": "python",
   "nbconvert_exporter": "python",
   "pygments_lexer": "ipython3",
   "version": "3.9.12"
  }
 },
 "nbformat": 4,
 "nbformat_minor": 5
}
