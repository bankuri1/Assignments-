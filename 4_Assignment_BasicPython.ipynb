{
 "cells": [
  {
   "cell_type": "markdown",
   "id": "3377525c-cd2e-4790-8f3b-a58d0a693f21",
   "metadata": {},
   "source": [
    "### 1. What exactly is []?"
   ]
  },
  {
   "cell_type": "markdown",
   "id": "4cc49150-f8ae-4e10-b603-cd47279a452e",
   "metadata": {},
   "source": [
    "This is an Empty List or we can say that list without values"
   ]
  },
  {
   "cell_type": "markdown",
   "id": "64c6ecbc-4ff2-4129-a095-9300345bdfa9",
   "metadata": {},
   "source": [
    "### 2. In a list of values stored in a variable called spam, how would you assign the value &#39;hello&#39; as the third value? (Assume [2, 4, 6, 8, 10] are in spam.)"
   ]
  },
  {
   "cell_type": "markdown",
   "id": "97fbce0c-cbb5-42cd-9a8d-a35bd27403f0",
   "metadata": {},
   "source": [
    "spam[2] = \"hello\""
   ]
  },
  {
   "cell_type": "markdown",
   "id": "5fb8651f-da29-443d-b954-17d6b412fdbd",
   "metadata": {},
   "source": [
    "### 3. What is the value of spam[int(int(&#39;3&#39; * 2) / 11)]?"
   ]
  },
  {
   "cell_type": "markdown",
   "id": "d668a66f-058c-4d4d-99a5-06fed83e1000",
   "metadata": {},
   "source": [
    "'3'*2=33"
   ]
  },
  {
   "cell_type": "markdown",
   "id": "ec5454a2-5d5a-421f-b4d9-2dc28865d662",
   "metadata": {},
   "source": [
    "33/11=3"
   ]
  },
  {
   "cell_type": "markdown",
   "id": "a85b759b-3495-4fe5-a4fa-4aebeabb4e3c",
   "metadata": {},
   "source": [
    "spam[int(int(3))]"
   ]
  },
  {
   "cell_type": "markdown",
   "id": "1cddd86e-f843-4156-92bb-63f359651477",
   "metadata": {},
   "source": [
    "spam[3]='d'"
   ]
  },
  {
   "cell_type": "markdown",
   "id": "89e34f98-218d-4958-9c08-430916699f88",
   "metadata": {},
   "source": [
    "### 4. What is the value of spam[-1]?"
   ]
  },
  {
   "cell_type": "markdown",
   "id": "000bde91-077e-450e-96b8-c7860786209d",
   "metadata": {},
   "source": [
    "'d'"
   ]
  },
  {
   "cell_type": "markdown",
   "id": "bed3a0e1-0a97-43b2-a8b5-07bb376e5e16",
   "metadata": {},
   "source": [
    "### 5. What is the value of spam[:2]?"
   ]
  },
  {
   "cell_type": "markdown",
   "id": "de6523d0-5716-4337-9af3-9cf8149f9356",
   "metadata": {},
   "source": [
    "['a','b']"
   ]
  },
  {
   "cell_type": "markdown",
   "id": "5f8ff452-0713-446f-b1d9-2d56573430fe",
   "metadata": {},
   "source": [
    "### bacon=[3.14, &#39;cat,&#39; 11, &#39;cat,&#39; True]"
   ]
  },
  {
   "cell_type": "markdown",
   "id": "70454302-266f-4fb1-9344-55142027a8e3",
   "metadata": {},
   "source": [
    "### 6. What is the value of bacon.index(&#39;cat&#39;)?\n"
   ]
  },
  {
   "cell_type": "markdown",
   "id": "c73175af-e443-4e2d-aeb9-6c2d524ef6a8",
   "metadata": {},
   "source": [
    " 1"
   ]
  },
  {
   "cell_type": "markdown",
   "id": "eea2817d-9067-470d-9829-b9ce2fc0c82e",
   "metadata": {},
   "source": [
    "### 7. How does bacon.append(99) change the look of the list value in bacon?"
   ]
  },
  {
   "cell_type": "markdown",
   "id": "e7eaac8e-0292-4aa4-9e35-1d1ac5e5d725",
   "metadata": {},
   "source": [
    "[3.14,'cat',11,'cat',True,99]"
   ]
  },
  {
   "cell_type": "markdown",
   "id": "3f5e82cc-c5bd-468b-9984-c6e1c11d5d9e",
   "metadata": {},
   "source": [
    "### 8. How does bacon.remove(&#39;cat&#39;) change the look of the list in bacon?"
   ]
  },
  {
   "cell_type": "markdown",
   "id": "fbefe89c-0c4d-494c-b04f-8ce9e240b55b",
   "metadata": {},
   "source": [
    "[3.14,11,'cat',True]"
   ]
  },
  {
   "cell_type": "markdown",
   "id": "3d4901ee-e8bf-4bdd-8ede-5d7a7258c4e9",
   "metadata": {},
   "source": [
    "### 9. What are the list concatenation and list replication operators?"
   ]
  },
  {
   "cell_type": "markdown",
   "id": "d58393ef-3aae-4461-9416-72732b6c6951",
   "metadata": {},
   "source": [
    "The list concatenation operator is + and the list replication operator is *"
   ]
  },
  {
   "cell_type": "markdown",
   "id": "051612c8-4554-4f7c-a5ee-be6409f12e54",
   "metadata": {},
   "source": [
    "### 10. What is difference between the list methods append() and insert()?"
   ]
  },
  {
   "cell_type": "markdown",
   "id": "90653bad-d736-4df8-9a28-ebff4b6ec730",
   "metadata": {},
   "source": [
    "append() will insert value in the last of the list while insert() can add values anywhere in the list "
   ]
  },
  {
   "cell_type": "markdown",
   "id": "7eee1e40-ff70-490e-85b7-d9b166f797b5",
   "metadata": {},
   "source": [
    "### 11. What are the two methods for removing items from a list?"
   ]
  },
  {
   "cell_type": "markdown",
   "id": "9751d39d-4433-4199-807c-d4c051885c18",
   "metadata": {},
   "source": [
    "The two method for removing items from the list are (i) del statement and (ii) remove() method"
   ]
  },
  {
   "cell_type": "markdown",
   "id": "fd0029a0-5f36-487e-ab9d-fa4c014cd0ca",
   "metadata": {},
   "source": [
    "### 12. Describe how list values and string values are identical."
   ]
  },
  {
   "cell_type": "markdown",
   "id": "9f501106-6a71-49ac-8458-c7d5eb0a2678",
   "metadata": {},
   "source": [
    "List values and String values are identical because we can perform same operation on both type of values.Both values can be concatinated or can be replicated they both have indexes,and support similar kind of built in funtions."
   ]
  },
  {
   "cell_type": "markdown",
   "id": "47900d56-0691-40c6-980a-97848e3848ff",
   "metadata": {},
   "source": [
    "### 13. What&#39;s the difference between tuples and lists?"
   ]
  },
  {
   "cell_type": "markdown",
   "id": "0c1df6b9-a366-49ca-a277-23de8bfb252c",
   "metadata": {},
   "source": [
    "when we create a list we use square brakets[] but in case of tuple we use normal brackets() .List support item assignments but tuple doesn't support item assignment ,List are mutalble while tuples are immutable. "
   ]
  },
  {
   "cell_type": "markdown",
   "id": "8325a03d-046b-4c6d-b326-4122f9366a2a",
   "metadata": {},
   "source": [
    "### 14. How do you type a tuple value that only contains the integer 42?"
   ]
  },
  {
   "cell_type": "markdown",
   "id": "9230e796-7d2f-4bd8-88a0-f027e5d14cc9",
   "metadata": {},
   "source": [
    "t=(42,)"
   ]
  },
  {
   "cell_type": "markdown",
   "id": "5674ad54-8b64-4a1a-9525-903a1aa9cf7e",
   "metadata": {},
   "source": [
    "### 15. How do you get a list value&#39;s tuple form? How do you get a tuple value&#39;s list form?"
   ]
  },
  {
   "cell_type": "markdown",
   "id": "613dd058-f263-4b61-ac52-28cf15474151",
   "metadata": {},
   "source": [
    "By using tuple() and list() functions respectively\n"
   ]
  },
  {
   "cell_type": "markdown",
   "id": "13b5f2fc-2b7f-4441-9341-cf340797a106",
   "metadata": {},
   "source": [
    "### 16. Variables that &quot;contain&quot; list values are not necessarily lists themselves. Instead, what do they contain?"
   ]
  },
  {
   "cell_type": "markdown",
   "id": "89cd9247-a324-4aad-b17c-8b1bfba72873",
   "metadata": {},
   "source": [
    "contain reference to list values\n"
   ]
  },
  {
   "cell_type": "markdown",
   "id": "3cb480f8-e379-4281-8076-2d2957783f68",
   "metadata": {},
   "source": [
    "### 17. How do you distinguish between copy.copy() and copy.deepcopy()?"
   ]
  },
  {
   "cell_type": "markdown",
   "id": "201aa5cb-73c0-4a76-a66e-3fcf80fc400d",
   "metadata": {},
   "source": [
    "The copy.copy() function will do a shallow copy of a list, while the copy.deepcopy() function will do a deep copy of a list. That is, only copy.deepcopy() will duplicate any lists inside the list."
   ]
  }
 ],
 "metadata": {
  "kernelspec": {
   "display_name": "Python 3 (ipykernel)",
   "language": "python",
   "name": "python3"
  },
  "language_info": {
   "codemirror_mode": {
    "name": "ipython",
    "version": 3
   },
   "file_extension": ".py",
   "mimetype": "text/x-python",
   "name": "python",
   "nbconvert_exporter": "python",
   "pygments_lexer": "ipython3",
   "version": "3.9.12"
  }
 },
 "nbformat": 4,
 "nbformat_minor": 5
}
