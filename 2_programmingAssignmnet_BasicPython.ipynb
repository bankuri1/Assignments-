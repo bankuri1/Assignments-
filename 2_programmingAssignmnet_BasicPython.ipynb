{
 "cells": [
  {
   "cell_type": "markdown",
   "id": "84764014-3d33-4c91-a6db-293dad206d1d",
   "metadata": {},
   "source": [
    "### 1. Write a Python program to convert kilometers to miles?"
   ]
  },
  {
   "cell_type": "code",
   "execution_count": 34,
   "id": "319b7a27-012d-4ab2-9567-081b92a833e0",
   "metadata": {},
   "outputs": [],
   "source": [
    "class conversion:\n",
    "    def __init__(self,km):\n",
    "           self.km=km\n",
    "            \n",
    "    def notAFloat(self):\n",
    "        try:\n",
    "            if type(self.km) != float:\n",
    "                raise Exception(\"Not a Float value\")\n",
    "            return 1\n",
    "        except Exception as e:\n",
    "            print(e)\n",
    "   \n",
    "    def convertKmToMiles(self):\n",
    "         if self.notAFloat() :\n",
    "            miles=self.km*0.621371\n",
    "            return miles\n",
    "   \n",
    "    "
   ]
  },
  {
   "cell_type": "code",
   "execution_count": 35,
   "id": "12b290a2-7965-42bf-8587-7afa6b2692c8",
   "metadata": {},
   "outputs": [],
   "source": [
    "c=conversion(56.98)"
   ]
  },
  {
   "cell_type": "code",
   "execution_count": 37,
   "id": "07cd4279-1598-459e-bf32-4c83de732c18",
   "metadata": {},
   "outputs": [
    {
     "data": {
      "text/plain": [
       "35.405719579999996"
      ]
     },
     "execution_count": 37,
     "metadata": {},
     "output_type": "execute_result"
    }
   ],
   "source": [
    "c.convertKmToMiles()"
   ]
  },
  {
   "cell_type": "markdown",
   "id": "b7c1d2c7-632e-4b20-a068-2365ba5c1809",
   "metadata": {},
   "source": [
    "### 2. Write a Python program to convert Celsius to Fahrenheit?"
   ]
  },
  {
   "cell_type": "code",
   "execution_count": 45,
   "id": "c9e85fc1-bbe5-4478-b2f7-23502800cff0",
   "metadata": {},
   "outputs": [],
   "source": [
    "class second:\n",
    "    def __init__(self,celsius):\n",
    "        self.celsius=celsius\n",
    "    \n",
    "    def convert(self):\n",
    "        f = (self.celsius * 1.8) + 32\n",
    "        return f"
   ]
  },
  {
   "cell_type": "code",
   "execution_count": 46,
   "id": "cacc423a-6f21-4107-8aae-de50824faf8a",
   "metadata": {},
   "outputs": [],
   "source": [
    "s= second(34)"
   ]
  },
  {
   "cell_type": "code",
   "execution_count": 47,
   "id": "5c28808c-2487-4bbe-87ef-a9b192e0d120",
   "metadata": {},
   "outputs": [
    {
     "data": {
      "text/plain": [
       "93.2"
      ]
     },
     "execution_count": 47,
     "metadata": {},
     "output_type": "execute_result"
    }
   ],
   "source": [
    "s.convert()"
   ]
  },
  {
   "cell_type": "markdown",
   "id": "6b101f27-5694-41ff-877d-8c32efa69128",
   "metadata": {},
   "source": [
    "### 3. Write a Python program to display calendar?"
   ]
  },
  {
   "cell_type": "code",
   "execution_count": 1,
   "id": "c9829e1b-219c-42bd-a0c9-ce629aa6ff92",
   "metadata": {},
   "outputs": [],
   "source": [
    "import calendar  \n",
    "class showC:\n",
    "    def cal(self):\n",
    "        year=int(input(\"Enter year\"))\n",
    "        month=int(input(\"Enter month\"))\n",
    "        print(calendar.month(year,month))\n",
    "    "
   ]
  },
  {
   "cell_type": "code",
   "execution_count": 2,
   "id": "2723a7bf-ad3f-4f73-95b9-adf0d2f910b7",
   "metadata": {},
   "outputs": [],
   "source": [
    "c=showC()"
   ]
  },
  {
   "cell_type": "code",
   "execution_count": 3,
   "id": "a3cc074a-03cb-408f-9b2c-9b5b5f0e7b3e",
   "metadata": {},
   "outputs": [
    {
     "name": "stdin",
     "output_type": "stream",
     "text": [
      "Enter year 2013\n",
      "Enter month 1\n"
     ]
    },
    {
     "name": "stdout",
     "output_type": "stream",
     "text": [
      "    January 2013\n",
      "Mo Tu We Th Fr Sa Su\n",
      "    1  2  3  4  5  6\n",
      " 7  8  9 10 11 12 13\n",
      "14 15 16 17 18 19 20\n",
      "21 22 23 24 25 26 27\n",
      "28 29 30 31\n",
      "\n"
     ]
    }
   ],
   "source": [
    "c.cal()"
   ]
  },
  {
   "cell_type": "code",
   "execution_count": 6,
   "id": "39be9eba-eefa-4406-ab46-dcf3b37b7975",
   "metadata": {},
   "outputs": [
    {
     "name": "stdin",
     "output_type": "stream",
     "text": [
      "Enter year 2045\n",
      "Enter month 6\n"
     ]
    },
    {
     "name": "stdout",
     "output_type": "stream",
     "text": [
      "     June 2045\n",
      "Mo Tu We Th Fr Sa Su\n",
      "          1  2  3  4\n",
      " 5  6  7  8  9 10 11\n",
      "12 13 14 15 16 17 18\n",
      "19 20 21 22 23 24 25\n",
      "26 27 28 29 30\n",
      "\n"
     ]
    }
   ],
   "source": [
    "c.cal()\n"
   ]
  },
  {
   "cell_type": "markdown",
   "id": "8d947555-ec6b-41e5-aba7-6313d0d4f0cc",
   "metadata": {},
   "source": [
    "### 4. Write a Python program to solve quadratic equation?"
   ]
  },
  {
   "cell_type": "code",
   "execution_count": 14,
   "id": "045595e4-aeca-4004-9782-ea6f47552d88",
   "metadata": {},
   "outputs": [],
   "source": [
    "import math\n",
    "class Quadratic:\n",
    "    def __init__(self,a,b,c):\n",
    "        self.a=a\n",
    "        self.b=b\n",
    "        self.c=c\n",
    "    \n",
    "    def equation(self):\n",
    "        if self.aIsNotZero():\n",
    "            dis=self.b*self.b-4*self.a*self.c\n",
    "            sqr_dis=math.sqrt(abs(dis))\n",
    "            if dis>0:\n",
    "                print((-self.b + sqr_dis)/(2*self.a))\n",
    "                print((-self.b - sqr_dis)/(2*self.a))\n",
    "            elif dis==0:\n",
    "                print((-self.b)/(2*self.a))\n",
    "                print((-self.b)/(2*self.a))\n",
    "            else :\n",
    "                print(- self.b / (2 * self.self.a), \" + i\",sqr_dis) \n",
    "                print(- self.b / (2 * self.a), \" - i\",sqr_dis) \n",
    "    def aIsNotZero(self):\n",
    "        try:\n",
    "            if self.a==0:\n",
    "                raise Exception(\"Not a quadratic Equation\")\n",
    "            return 1\n",
    "        except Exception as e:\n",
    "            print(e)"
   ]
  },
  {
   "cell_type": "code",
   "execution_count": 23,
   "id": "56fd5e4e-bb33-427b-8c75-4dccd6811a51",
   "metadata": {},
   "outputs": [],
   "source": [
    "q=Quadratic(1,10,-20)"
   ]
  },
  {
   "cell_type": "code",
   "execution_count": 24,
   "id": "62b753da-cb00-44fa-b99a-ea60e88595f4",
   "metadata": {},
   "outputs": [
    {
     "name": "stdout",
     "output_type": "stream",
     "text": [
      "1.7082039324993694\n",
      "-11.70820393249937\n"
     ]
    }
   ],
   "source": [
    "q.equation()"
   ]
  },
  {
   "cell_type": "code",
   "execution_count": 27,
   "id": "d3657239-5fee-43a6-a634-148182dc2a58",
   "metadata": {},
   "outputs": [
    {
     "name": "stdout",
     "output_type": "stream",
     "text": [
      "-1.0  + i 30.0\n",
      "-1.0  - i 30.0\n"
     ]
    }
   ],
   "source": [
    "q1=Quadratic(5,10,50)\n",
    "q1.equation()"
   ]
  },
  {
   "cell_type": "markdown",
   "id": "b4f713ff-53bb-4735-bb9e-485339307f48",
   "metadata": {},
   "source": [
    "### 5. Write a Python program to swap two variables without temp variable?"
   ]
  },
  {
   "cell_type": "code",
   "execution_count": 29,
   "id": "f359201a-10b1-41a8-ac2a-0907b716b0dc",
   "metadata": {},
   "outputs": [],
   "source": [
    "class swapCl:\n",
    "    def __init__(self,a,b):\n",
    "        self.a=a\n",
    "        self.b=b\n",
    "    def swap(self):\n",
    "        print(\"Value of a before swapping :\",self.a)\n",
    "        print(\"Value of b before swapping :\",self.b)\n",
    "        self.a,self.b=self.b,self.a\n",
    "        print(\"Value of a after swapping :\",self.a)\n",
    "        print(\"Value of b after swapping :\",self.b)"
   ]
  },
  {
   "cell_type": "code",
   "execution_count": 31,
   "id": "f65e8163-10fe-4560-bd53-a08ecd337499",
   "metadata": {},
   "outputs": [],
   "source": [
    "sw=swapCl(12,90)"
   ]
  },
  {
   "cell_type": "code",
   "execution_count": 32,
   "id": "a976cb6a-9c24-4e03-a8b8-cd6c52b04e60",
   "metadata": {},
   "outputs": [
    {
     "name": "stdout",
     "output_type": "stream",
     "text": [
      "Value of a before swapping : 12\n",
      "Value of b before swapping : 90\n",
      "Value of a after swapping : 90\n",
      "Value of b after swapping : 12\n"
     ]
    }
   ],
   "source": [
    "sw.swap()"
   ]
  }
 ],
 "metadata": {
  "kernelspec": {
   "display_name": "Python 3 (ipykernel)",
   "language": "python",
   "name": "python3"
  },
  "language_info": {
   "codemirror_mode": {
    "name": "ipython",
    "version": 3
   },
   "file_extension": ".py",
   "mimetype": "text/x-python",
   "name": "python",
   "nbconvert_exporter": "python",
   "pygments_lexer": "ipython3",
   "version": "3.9.12"
  }
 },
 "nbformat": 4,
 "nbformat_minor": 5
}
