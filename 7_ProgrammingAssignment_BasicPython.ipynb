{
 "cells": [
  {
   "cell_type": "markdown",
   "id": "3cf1ebbd-6abf-4a5f-83ef-4d1e28e38362",
   "metadata": {},
   "source": [
    "### 1. Write a Python Program to find sum of array?"
   ]
  },
  {
   "cell_type": "code",
   "execution_count": 2,
   "id": "e2390d07-f5fc-4e8c-95d4-f095f1d97e31",
   "metadata": {},
   "outputs": [
    {
     "name": "stdin",
     "output_type": "stream",
     "text": [
      "Enter the Array:  [1,2,3,4,5,6,7]\n"
     ]
    },
    {
     "name": "stdout",
     "output_type": "stream",
     "text": [
      "The sum of [1, 2, 3, 4, 5, 6, 7] is 28\n"
     ]
    }
   ],
   "source": [
    "def sumOfArray():\n",
    "    in_arr = eval(input(\"Enter the Array: \"))\n",
    "    print(f'The sum of {in_arr} is {sum(in_arr)}')\n",
    "\n",
    "sumOfArray()"
   ]
  },
  {
   "cell_type": "markdown",
   "id": "a76f468b-0c3f-4e07-992a-2f5b6f90c9e5",
   "metadata": {},
   "source": [
    "### 2. Write a Python Program to find largest element in an array?"
   ]
  },
  {
   "cell_type": "code",
   "execution_count": 4,
   "id": "b6dbe923-0c6f-45da-8e69-609ce758a8fb",
   "metadata": {},
   "outputs": [
    {
     "name": "stdin",
     "output_type": "stream",
     "text": [
      "Enter the array : [23,78,98,35,85]\n"
     ]
    },
    {
     "name": "stdout",
     "output_type": "stream",
     "text": [
      "The lasrgest element in the array is 98\n"
     ]
    }
   ],
   "source": [
    "def large():\n",
    "    in_arr=eval(input(\"Enter the array :\"))\n",
    "    print(f'The lasrgest element in the array is {sorted(in_arr, reverse=True)[0]}')\n",
    "large()"
   ]
  },
  {
   "cell_type": "markdown",
   "id": "0a24359c-f0b4-4ccc-94ba-4490b99e1c63",
   "metadata": {},
   "source": [
    "### 3. Write a Python Program for array rotation?"
   ]
  },
  {
   "cell_type": "code",
   "execution_count": 6,
   "id": "c30b5025-b6f3-4668-881f-776f9f62ec1e",
   "metadata": {},
   "outputs": [
    {
     "name": "stdin",
     "output_type": "stream",
     "text": [
      "Enter the Array: [1,2,3,4,5,6,7,8,9,10]\n"
     ]
    },
    {
     "name": "stdout",
     "output_type": "stream",
     "text": [
      "Rotation of [1, 2, 3, 4, 5, 6, 7, 8, 9, 10] is [10, 9, 8, 7, 6, 5, 4, 3, 2, 1]\n"
     ]
    }
   ],
   "source": [
    "def rotate():\n",
    "    arr=eval(input(\"Enter the Array:\"))\n",
    "    print(f'Rotation of {arr} is {arr[::-1]}')\n",
    "rotate()"
   ]
  },
  {
   "cell_type": "markdown",
   "id": "7dcde2c1-6a45-474b-9373-35bc511408b0",
   "metadata": {},
   "source": [
    "### 4. Write a Python Program to Split the array and add the first part to the end?"
   ]
  },
  {
   "cell_type": "code",
   "execution_count": 10,
   "id": "bd6021a8-e7ee-4fb9-a030-0cd0aa500046",
   "metadata": {},
   "outputs": [
    {
     "name": "stdin",
     "output_type": "stream",
     "text": [
      "Enter the array : [1,2,3,4,5,6]\n",
      "Enter from where you want to split array  2\n"
     ]
    },
    {
     "name": "stdout",
     "output_type": "stream",
     "text": [
      "3 4 5 6 1 2 "
     ]
    }
   ],
   "source": [
    "def SplitAdd():\n",
    "    arr=eval(input(\"Enter the array :\"))\n",
    "    k=int(input(\"Enter from where you want to split array \"))\n",
    "    n=len(arr)\n",
    "    \n",
    "    for i in range(0,k):\n",
    "        x=arr[0]\n",
    "        for j in range(0,n-1):\n",
    "            arr[j]=arr[j+1]\n",
    "            \n",
    "        arr[n-1]=x\n",
    "    \n",
    "    for i in range(0, n):\n",
    "        print(arr[i], end = ' ')\n",
    "SplitAdd()\n",
    "        \n",
    "        "
   ]
  },
  {
   "cell_type": "markdown",
   "id": "a03b1958-9149-4233-b9b4-659c1e11bfbe",
   "metadata": {},
   "source": [
    "### 5. Write a Python Program to check if given array is Monotonic?\n"
   ]
  },
  {
   "cell_type": "code",
   "execution_count": 11,
   "id": "2bc288d6-ddec-423c-a044-f71fe47bee52",
   "metadata": {},
   "outputs": [
    {
     "name": "stdin",
     "output_type": "stream",
     "text": [
      "Enter the Array:  [1,2,3,4,5]\n"
     ]
    },
    {
     "name": "stdout",
     "output_type": "stream",
     "text": [
      "Array [1, 2, 3, 4, 5] is Monotonic\n"
     ]
    },
    {
     "name": "stdin",
     "output_type": "stream",
     "text": [
      "Enter the Array:  [8,5,7,6,9]\n"
     ]
    },
    {
     "name": "stdout",
     "output_type": "stream",
     "text": [
      "Array [8, 5, 7, 6, 9] is Not Monotonic\n"
     ]
    }
   ],
   "source": [
    "def checkMonotonic():\n",
    "    in_arr = eval(input(\"Enter the Array: \"))\n",
    "    if(all(in_arr[i]<=in_arr[i+1] for i in range(len(in_arr)-1)) or all(in_arr[i]>=in_arr[i+1] for i in range(len(in_arr)-1))):\n",
    "        print(f'Array {in_arr} is Monotonic')\n",
    "    else:\n",
    "        print(f'Array {in_arr} is Not Monotonic')\n",
    "\n",
    "checkMonotonic()\n",
    "checkMonotonic()"
   ]
  }
 ],
 "metadata": {
  "kernelspec": {
   "display_name": "Python 3 (ipykernel)",
   "language": "python",
   "name": "python3"
  },
  "language_info": {
   "codemirror_mode": {
    "name": "ipython",
    "version": 3
   },
   "file_extension": ".py",
   "mimetype": "text/x-python",
   "name": "python",
   "nbconvert_exporter": "python",
   "pygments_lexer": "ipython3",
   "version": "3.9.12"
  }
 },
 "nbformat": 4,
 "nbformat_minor": 5
}
