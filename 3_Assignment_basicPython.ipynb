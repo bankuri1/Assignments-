{
 "cells": [
  {
   "cell_type": "markdown",
   "id": "2aa59de9-71e8-4c0c-a1d4-27702f9bdf49",
   "metadata": {},
   "source": [
    "### 1. Why are functions advantageous to have in your programs?"
   ]
  },
  {
   "cell_type": "markdown",
   "id": "035b25a6-28c9-45db-af53-5a88bad6e3d6",
   "metadata": {},
   "source": [
    "Functions are advantageous because we don't need to write same code again and again we can reuse the code in our program ,It reduce the need of duplicate code and save our time."
   ]
  },
  {
   "cell_type": "markdown",
   "id": "72f22d59-c708-40da-841a-e629786cfbbc",
   "metadata": {},
   "source": [
    "### 2. When does the code in a function run: when it&#39;s specified or when it&#39;s called?"
   ]
  },
  {
   "cell_type": "markdown",
   "id": "05c84498-c3d7-4950-9899-0fa5bd1dc856",
   "metadata": {},
   "source": [
    "The code in function run when it is called"
   ]
  },
  {
   "cell_type": "markdown",
   "id": "01653320-443f-48ed-8a83-502f26b512f7",
   "metadata": {},
   "source": [
    "### 3. What statement creates a function?"
   ]
  },
  {
   "cell_type": "markdown",
   "id": "e1903a3f-ea9c-4f1c-9bdc-db4843b91c88",
   "metadata": {},
   "source": [
    "def statement creates a function"
   ]
  },
  {
   "cell_type": "markdown",
   "id": "5ceb98ab-56b5-4eaa-8ffa-cc7400e513f1",
   "metadata": {},
   "source": [
    "### 4. What is the difference between a function and a function call?"
   ]
  },
  {
   "cell_type": "markdown",
   "id": "2b9d9d68-80c8-4dc2-8481-e84082021d92",
   "metadata": {},
   "source": [
    "Function is block of reusable code it is define to perform a certain task .Function run only when they are called.while Function call move the execution of code inside the function block.  "
   ]
  },
  {
   "cell_type": "markdown",
   "id": "53556dcc-53d9-4228-869f-0f678c2a6ae3",
   "metadata": {},
   "source": [
    "### 5. How many global scopes are there in a Python program? How many local scopes?"
   ]
  },
  {
   "cell_type": "markdown",
   "id": "ea8d32e2-984c-47e5-a113-056572205f23",
   "metadata": {},
   "source": [
    "There is one global Scope per program execution and local scope is created whenever a function is called."
   ]
  },
  {
   "cell_type": "markdown",
   "id": "d52be0d8-6996-4e8d-a7ea-336eef7201bb",
   "metadata": {},
   "source": [
    "### 6. What happens to variables in a local scope when the function call returns?"
   ]
  },
  {
   "cell_type": "markdown",
   "id": "74fa82ce-5d6f-4fdc-899a-791e70dcf1a7",
   "metadata": {},
   "source": [
    "After execution of funtion all the variables in the local scope are destroyed if the function call returns"
   ]
  },
  {
   "cell_type": "markdown",
   "id": "228272a2-cf4d-4f71-af89-f9c6aa7a4776",
   "metadata": {},
   "source": [
    "### 7. What is the concept of a return value? Is it possible to have a return value in an expression?"
   ]
  },
  {
   "cell_type": "markdown",
   "id": "d9f734ff-7857-4d7e-b76d-6d3ba4f4b232",
   "metadata": {},
   "source": [
    "when a function execute it take some arguments and return some value then the type of value which function return is return value it can be anything like int ,float, string etc.Yes,It is possible to have a return value in an expression. "
   ]
  },
  {
   "cell_type": "markdown",
   "id": "1d2b5fd1-5e81-4a27-8fdf-05cba3202800",
   "metadata": {},
   "source": [
    "### 8. If a function does not have a return statement, what is the return value of a call to that function?"
   ]
  },
  {
   "cell_type": "markdown",
   "id": "adbda219-01b9-4371-ab5c-880dcbaf7315",
   "metadata": {},
   "source": [
    "If function does not have return statement then the return value of vvalue to that function will be None type"
   ]
  },
  {
   "cell_type": "markdown",
   "id": "a5b14eac-6003-4857-82ea-cf977cd38133",
   "metadata": {},
   "source": [
    "### 9. How do you make a function variable refer to the global variable?\n"
   ]
  },
  {
   "cell_type": "markdown",
   "id": "34656dc4-d610-4733-899e-f7a44869815d",
   "metadata": {},
   "source": [
    "To create a global variable inside the function use global Keyword"
   ]
  },
  {
   "cell_type": "markdown",
   "id": "13d87a92-5612-42a2-955c-0d1bb201376f",
   "metadata": {},
   "source": [
    "### 10. What is the data type of None?"
   ]
  },
  {
   "cell_type": "markdown",
   "id": "155cb131-77b3-4fc8-a9b4-81653acfcd8b",
   "metadata": {},
   "source": [
    "Data type of None is NoneType"
   ]
  },
  {
   "cell_type": "markdown",
   "id": "cf37f322-6549-4478-8b33-abadf17d8e9d",
   "metadata": {},
   "source": [
    "### 11. What does the sentence import areallyourpetsnamederic do?\n"
   ]
  },
  {
   "cell_type": "markdown",
   "id": "294fd554-0561-4930-9b61-2931989be201",
   "metadata": {},
   "source": [
    "It will import a module named areallyourpetsnamederic"
   ]
  },
  {
   "cell_type": "markdown",
   "id": "e8f8b427-7099-40c7-ad9b-9445680588dc",
   "metadata": {},
   "source": [
    "### 12. If you had a bacon() feature in a spam module, what would you call it after importing spam?"
   ]
  },
  {
   "cell_type": "markdown",
   "id": "a9084bd8-10d5-40ee-8461-df261d07d28c",
   "metadata": {},
   "source": [
    "spam.bacon()"
   ]
  },
  {
   "cell_type": "markdown",
   "id": "2e14b1af-f082-43f3-bb9a-31f6534823cd",
   "metadata": {},
   "source": [
    "### 13. What can you do to save a programme from crashing if it encounters an error?"
   ]
  },
  {
   "cell_type": "markdown",
   "id": "939e610b-9504-46e7-a616-78a3c7ea51a5",
   "metadata": {},
   "source": [
    "We should enclose the program in try  block to save the program from crashing if it encounters an error"
   ]
  },
  {
   "cell_type": "markdown",
   "id": "8f94f0ed-9127-471f-9b81-7d00df91778c",
   "metadata": {},
   "source": [
    "### 14. What is the purpose of the try clause? What is the purpose of the except clause?"
   ]
  },
  {
   "cell_type": "markdown",
   "id": "43b241c6-f889-4c3a-95ef-9f43de178ef0",
   "metadata": {},
   "source": [
    "That code which may cause an error goes into try clause and that code which run after encounter an error goes into except clause"
   ]
  }
 ],
 "metadata": {
  "kernelspec": {
   "display_name": "Python 3 (ipykernel)",
   "language": "python",
   "name": "python3"
  },
  "language_info": {
   "codemirror_mode": {
    "name": "ipython",
    "version": 3
   },
   "file_extension": ".py",
   "mimetype": "text/x-python",
   "name": "python",
   "nbconvert_exporter": "python",
   "pygments_lexer": "ipython3",
   "version": "3.9.12"
  }
 },
 "nbformat": 4,
 "nbformat_minor": 5
}
