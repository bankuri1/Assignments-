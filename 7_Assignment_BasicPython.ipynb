{
 "cells": [
  {
   "cell_type": "markdown",
   "id": "93daf0bd-3320-438a-9190-9877145241b8",
   "metadata": {},
   "source": [
    "### 1. What is the name of the feature responsible for generating Regex objects?"
   ]
  },
  {
   "cell_type": "markdown",
   "id": "eb7877da-138e-4c52-9da7-67e5d734bc2e",
   "metadata": {},
   "source": [
    "re.compile() is the feature responsible for generating regex Objects"
   ]
  },
  {
   "cell_type": "code",
   "execution_count": 4,
   "id": "a5dd4e0b-6ca8-4f69-8eab-c271836c996f",
   "metadata": {},
   "outputs": [
    {
     "name": "stdout",
     "output_type": "stream",
     "text": [
      "Phone number found: 415-555-4242\n"
     ]
    }
   ],
   "source": [
    "import re\n",
    "phoneNumRegex = re.compile(r'\\d\\d\\d-\\d\\d\\d-\\d\\d\\d\\d')\n",
    "mo = phoneNumRegex.search('My number is 415-555-4242.')\n",
    "print('Phone number found: ' + mo.group())"
   ]
  },
  {
   "cell_type": "markdown",
   "id": "c8fb87c3-315f-4d67-b2d4-c119b6c65971",
   "metadata": {},
   "source": [
    "### 2. Why do raw strings often appear in Regex objects?"
   ]
  },
  {
   "cell_type": "raw",
   "id": "88119002-0b34-4163-b475-49da77c07447",
   "metadata": {},
   "source": [
    "Regular expressions use the backslash character ('\\') to indicate special forms(Metacharacters) or to allow special characters(special sequence) to be used without invoking their special meaning.This collides with Python’s usage of the same character for the same purpose in string literals. Hence, Raw strings are used (e.g. r\"\\n\") so that backslashes do not have to be escaped."
   ]
  },
  {
   "cell_type": "code",
   "execution_count": 5,
   "id": "5be9495e-ac75-43df-a88d-6e8a0d14ee98",
   "metadata": {},
   "outputs": [
    {
     "name": "stdout",
     "output_type": "stream",
     "text": [
      "\\n\n"
     ]
    }
   ],
   "source": [
    "print(r\"\\n\")"
   ]
  },
  {
   "cell_type": "markdown",
   "id": "224157f3-28fa-477a-8ec1-5a7323290ab9",
   "metadata": {},
   "source": [
    "### 3. What is the return value of the search() method?"
   ]
  },
  {
   "cell_type": "markdown",
   "id": "90893da7-e13b-4b42-aec5-75bda871ae23",
   "metadata": {},
   "source": [
    "The return value of re.search(pattern,string) method is a match object if the pattern is observed in the string else it returns a None."
   ]
  },
  {
   "cell_type": "code",
   "execution_count": 8,
   "id": "993c27a6-b08f-49a8-8b98-aeac3496b034",
   "metadata": {},
   "outputs": [
    {
     "name": "stdout",
     "output_type": "stream",
     "text": [
      "Output: <re.Match object; span=(0, 1), match='I'>\n",
      "Output: None\n"
     ]
    }
   ],
   "source": [
    "import re\n",
    "match = re.search('i','Ineuron Full Stack Data Science Program', flags=re.IGNORECASE)\n",
    "print('Output:',match)\n",
    "match = re.search('X','Ineuron Full Stack Data Science Program', flags=re.IGNORECASE)\n",
    "print('Output:',match)"
   ]
  },
  {
   "cell_type": "markdown",
   "id": "5aa68a7e-6dec-46c8-bf7e-daef2b88a146",
   "metadata": {},
   "source": [
    "### 4. From a Match item, how do you get the actual strings that match the pattern?"
   ]
  },
  {
   "cell_type": "markdown",
   "id": "f46e2d53-0ebf-42c7-b146-24e2ef92face",
   "metadata": {},
   "source": [
    "For matched items group() method returns the actual strings that match the pattern "
   ]
  },
  {
   "cell_type": "code",
   "execution_count": 11,
   "id": "53f401a1-0bdf-487e-a9eb-e7b6f66850c0",
   "metadata": {},
   "outputs": [
    {
     "name": "stdout",
     "output_type": "stream",
     "text": [
      "Output : Ineuron\n"
     ]
    }
   ],
   "source": [
    "import re\n",
    "match=re.search('ineuron','Ineuron Full Stack Data Science Course ',flags =re.IGNORECASE)\n",
    "print('Output :',match.group())"
   ]
  },
  {
   "cell_type": "markdown",
   "id": "b1d30b9f-0d1a-4561-b0cf-64743b87daec",
   "metadata": {},
   "source": [
    "### 5. In the regex which created from the r&#39;(\\d\\d\\d)-(\\d\\d\\d-\\d\\d\\d\\d)&#39;, what does group zero cover?Group 2? Group 1?"
   ]
  },
  {
   "cell_type": "markdown",
   "id": "e0eb2b94-0f9a-405d-b370-56aa56284dc7",
   "metadata": {},
   "source": [
    "In the regex r'(\\d\\d\\d)-(\\d\\d\\d-\\d\\d\\d\\d)' the zero group covers the entire pattern match where ar the first group cover (\\d\\d\\d) and the second group cover (\\d\\d\\d-\\d\\d\\d\\d)"
   ]
  },
  {
   "cell_type": "code",
   "execution_count": 17,
   "id": "461d7c93-8380-434f-9718-2b92b6b1a790",
   "metadata": {},
   "outputs": [
    {
     "name": "stdout",
     "output_type": "stream",
     "text": [
      "('415', '555-4242')\n",
      "415-555-4242\n",
      "415\n",
      "555-4242\n"
     ]
    }
   ],
   "source": [
    "import re\n",
    "phoneNumberRegex=re.compile(r'(\\d\\d\\d)-(\\d\\d\\d-\\d\\d\\d\\d)')\n",
    "mo= phoneNumberRegex.search('My number is 415-555-4242')\n",
    "print(mo.groups())# Prints all groups in a tuple format\n",
    "print(mo.group())# Always returns the fully matched string\n",
    "print(mo.group(1))# Returns the first group\n",
    "print(mo.group(2))# Returns the second group"
   ]
  },
  {
   "cell_type": "markdown",
   "id": "1b966c26-4ce2-47e1-883a-0d27ea69a300",
   "metadata": {},
   "source": [
    "### 6. In standard expression syntax, parentheses and intervals have distinct meanings. How can you tell a regex that you want it to fit real parentheses and periods?"
   ]
  },
  {
   "cell_type": "raw",
   "id": "d7365b24-4eb5-4c17-b8e6-cf1e391e5d28",
   "metadata": {},
   "source": [
    "The \\. \\( and \\) escape characters in the raw string passed to re.compile() will match actual parenthesis characters."
   ]
  },
  {
   "cell_type": "code",
   "execution_count": 18,
   "id": "c5ccd346-3884-4b88-ab87-b6aed9ae4089",
   "metadata": {},
   "outputs": [
    {
     "name": "stdout",
     "output_type": "stream",
     "text": [
      "(415) 555-4242\n"
     ]
    }
   ],
   "source": [
    "import re\n",
    "phoneNumRegex = re.compile(r'(\\(\\d\\d\\d\\)) (\\d\\d\\d-\\d\\d\\d\\d)')\n",
    "mo = phoneNumRegex.search('My phone number is (415) 555-4242.')\n",
    "print(mo.group())"
   ]
  },
  {
   "cell_type": "markdown",
   "id": "4bee8192-7e8a-4df3-b497-7374b2c120c9",
   "metadata": {},
   "source": [
    "### 7. The findall() method returns a string list or a list of string tuples. What causes it to return one of the two options?"
   ]
  },
  {
   "cell_type": "markdown",
   "id": "3d3c9d27-9501-44e1-9f68-a64a9d55ed4b",
   "metadata": {},
   "source": [
    "If the regerx pattern has no groups, a list of string matched is returned,if the regex pattern has groups, a list of tuple of strings is returned"
   ]
  },
  {
   "cell_type": "code",
   "execution_count": 20,
   "id": "216bc21f-7c27-466b-88ae-96ad90d062e2",
   "metadata": {},
   "outputs": [
    {
     "name": "stdout",
     "output_type": "stream",
     "text": [
      "[('(415)', '555-4242')]\n"
     ]
    }
   ],
   "source": [
    "import re \n",
    "phoneNumregex=re.compile(r'(\\(\\d\\d\\d\\)) (\\d\\d\\d-\\d\\d\\d\\d)')\n",
    "mo= phoneNumRegex.findall('My phone number is (415) 555-4242')\n",
    "print(mo)"
   ]
  },
  {
   "cell_type": "code",
   "execution_count": 22,
   "id": "673d04d9-97e7-4d9e-addb-025d86561971",
   "metadata": {},
   "outputs": [
    {
     "name": "stdout",
     "output_type": "stream",
     "text": [
      "['415-555-4242']\n"
     ]
    }
   ],
   "source": [
    "import re \n",
    "phoneNumRegex=re.compile(r'\\d{3}-\\d{3}-\\d{4}')\n",
    "mo=phoneNumRegex.findall('My phone number is 415-555-4242')\n",
    "print(mo)"
   ]
  },
  {
   "cell_type": "raw",
   "id": "4c89d75b-1ef6-4d28-8fd0-b2031de360da",
   "metadata": {},
   "source": [
    "### 8. In standard expressions, what does the | character mean?"
   ]
  },
  {
   "cell_type": "markdown",
   "id": "7fb61042-1f6f-404a-99e6-aae405b2162a",
   "metadata": {},
   "source": [
    "In standard expressions | character means OR operator"
   ]
  },
  {
   "cell_type": "markdown",
   "id": "3349e998-080d-4652-900b-561436045d0e",
   "metadata": {},
   "source": [
    "### 9. In regular expressions, what does the ? character stand for?"
   ]
  },
  {
   "cell_type": "markdown",
   "id": "8e43ab03-d73e-4140-af42-51d74c190867",
   "metadata": {},
   "source": [
    "In regular Expressions, ? characters represents zero or one match of the preceeding group."
   ]
  },
  {
   "cell_type": "code",
   "execution_count": 24,
   "id": "f98e858e-df09-4169-883a-1763dbcc8681",
   "metadata": {},
   "outputs": [
    {
     "name": "stdout",
     "output_type": "stream",
     "text": [
      "<re.Match object; span=(0, 6), match='Batman'>\n",
      "<re.Match object; span=(0, 8), match='Batwoman'>\n"
     ]
    }
   ],
   "source": [
    "import re\n",
    "match_1 = re.search(\"Bat(wo)?man\",\"Batman returns\")\n",
    "print(match_1)\n",
    "match_2 = re.search(\"Bat(wo)?man\",\"Batwoman returns\")\n",
    "print(match_2)"
   ]
  },
  {
   "cell_type": "markdown",
   "id": "e3a50356-a65a-4c47-8eb4-9c06bb4a795e",
   "metadata": {},
   "source": [
    "### 10.In regular expressions, what is the difference between the + and * characters?"
   ]
  },
  {
   "cell_type": "raw",
   "id": "f045d73e-e4cb-4eef-95fe-d9b4f358f9eb",
   "metadata": {},
   "source": [
    "+ means 1 or more occurences of preceding group \n",
    "* means 0 or more occurences of preceding group"
   ]
  },
  {
   "cell_type": "code",
   "execution_count": 26,
   "id": "2c1993e0-b95c-4a39-85b6-39a1343b6aa4",
   "metadata": {},
   "outputs": [
    {
     "name": "stdout",
     "output_type": "stream",
     "text": [
      "<re.Match object; span=(0, 6), match='Batman'>\n",
      "None\n"
     ]
    }
   ],
   "source": [
    "import re\n",
    "match_1 = re.search(\"Bat(wo)*man\",\"Batman returns\")\n",
    "print(match_1)\n",
    "match_2 = re.search(\"Bat(wo)+man\",\"Batman returns\")\n",
    "print(match_2)"
   ]
  },
  {
   "cell_type": "markdown",
   "id": "cb5412a8-6612-452e-b286-63d89e87393e",
   "metadata": {},
   "source": [
    "### 11. What is the difference between {4} and {4,5} in regular expression?"
   ]
  },
  {
   "cell_type": "markdown",
   "id": "4b3c2eb6-68e5-4598-be45-1cd43dbd661e",
   "metadata": {},
   "source": [
    "{4} means that its preceeding group should repeat 4 times. where as {4,5} means that its preceeding group should repeat mininum 4 times and maximum 5 times inclusively"
   ]
  },
  {
   "cell_type": "code",
   "execution_count": null,
   "id": "521ca9e7-53cd-419d-8257-6b2fdcbd637b",
   "metadata": {},
   "outputs": [],
   "source": [
    "import re\n",
    "haRegex = re.compile(r'(Ha){3}')\n",
    "mo1 = haRegex.search('HaHaHa')\n",
    "mo2 = haRegex.search('Ha')\n",
    "print(mo1.group())\n",
    "print(mo2)"
   ]
  },
  {
   "cell_type": "code",
   "execution_count": 29,
   "id": "d1ae672f-5cf0-49ca-8746-8cfc23b8f02a",
   "metadata": {},
   "outputs": [
    {
     "name": "stdout",
     "output_type": "stream",
     "text": [
      "HaHaHaHa\n",
      "None\n"
     ]
    }
   ],
   "source": [
    "import re\n",
    "haRegex = re.compile(r'(Ha){3,4}')\n",
    "mo1 = haRegex.search('HaHaHaHa')\n",
    "mo2 = haRegex.search('Ha')\n",
    "print(mo1.group())\n",
    "print(mo2)"
   ]
  },
  {
   "cell_type": "markdown",
   "id": "5dd96d60-059c-4941-8c94-9a03c7a7964a",
   "metadata": {},
   "source": [
    "### 12. What do you mean by the \\d, \\w, and \\s shorthand character classes signify in regular expressions?"
   ]
  },
  {
   "cell_type": "code",
   "execution_count": null,
   "id": "29896fa3-408a-4a74-b34b-2a74f8c568e6",
   "metadata": {},
   "outputs": [],
   "source": [
    "\\w – Matches a word character equivalent to [a-zA-Z0-9_]\n",
    "\\d – Matches digit character equivalent to [0-9]\n",
    "\\s – Matches whitespace character (space, tab, newline, etc.)"
   ]
  },
  {
   "cell_type": "markdown",
   "id": "15d0891b-7457-4a6e-ae0f-8daade5b4be8",
   "metadata": {},
   "source": [
    "### 13. What do means by \\D, \\W, and \\S shorthand character classes signify in regular expressions?"
   ]
  },
  {
   "cell_type": "code",
   "execution_count": null,
   "id": "b85dc26b-f255-424b-bf1a-b1da9e4e321b",
   "metadata": {},
   "outputs": [],
   "source": [
    "\\W – Matches any non-alphanumeric character equivalent to [^a-zA-Z0-9_]\n",
    "\\D – Matches any non-digit character, this is equivalent to the set class [^0-9]\n",
    "\\S – Matches any non-whitespace character"
   ]
  },
  {
   "cell_type": "markdown",
   "id": "b336ce9e-2ed5-4925-adb8-29bac8205b81",
   "metadata": {},
   "source": [
    "### 14. What is the difference between .* ? and .* ?"
   ]
  },
  {
   "cell_type": "markdown",
   "id": "ee919af6-268d-4cf6-a565-2ccc68d6d36e",
   "metadata": {},
   "source": [
    ".* is the Greedy mode, which returns the longest string that meets the condition.whereas .*? is the non Greedy mode which returns the shortest string that meets the condition."
   ]
  },
  {
   "cell_type": "markdown",
   "id": "702337e9-9fcd-4839-9d57-42053953eb35",
   "metadata": {},
   "source": [
    "### 15. What is the syntax for matching both numbers and lowercase letters with a character class?"
   ]
  },
  {
   "cell_type": "markdown",
   "id": "26c31f7d-db83-461a-a646-ba730a1e0229",
   "metadata": {},
   "source": [
    "The syntax is either [a-z0-9] or [0-9a-z]"
   ]
  },
  {
   "cell_type": "markdown",
   "id": "19db6741-b4c6-4eef-b152-dd1abd763405",
   "metadata": {},
   "source": [
    "### 16. What is the procedure for making a normal expression in regax case insensitive?"
   ]
  },
  {
   "cell_type": "markdown",
   "id": "5f40fd7a-8223-43e1-b97f-b84d645434d2",
   "metadata": {},
   "source": [
    " We can pass re.IGNORECASE as a flag to make a noraml expression case insensitive"
   ]
  },
  {
   "cell_type": "markdown",
   "id": "78b489b9-fb40-4e03-b10e-2a04c8b071e1",
   "metadata": {},
   "source": [
    "### 17. What does the . character normally match? What does it match if re.DOTALL is passed as 2nd argument in re.compile()?"
   ]
  },
  {
   "cell_type": "markdown",
   "id": "3905a8b6-3919-4215-9b94-b14bed5d3548",
   "metadata": {},
   "source": [
    "Dot . character matches everything in the input except newline character .By passing re.DOTALL as a flag to re.compile() you can make the dot character matches all characters in the input including newline character .\n"
   ]
  },
  {
   "cell_type": "markdown",
   "id": "9aab8cf4-8247-4e79-b408-940e7e76b03e",
   "metadata": {},
   "source": [
    "### 18. If numReg = re.compile(r&#39;\\d+&#39;), what will numRegex.sub(&#39;X&#39;, &#39;11 drummers, 10 pipers, five rings, 4hen&#39;) return?"
   ]
  },
  {
   "cell_type": "markdown",
   "id": "3a7bbfef-5404-4e2b-813a-b8ba458b5da6",
   "metadata": {},
   "source": [
    "The Ouput will be 'X drummers, X pipers, five rings, X hen'"
   ]
  },
  {
   "cell_type": "code",
   "execution_count": 30,
   "id": "139195e8-a251-4511-98d0-8d64a308fb0f",
   "metadata": {},
   "outputs": [
    {
     "data": {
      "text/plain": [
       "'X drummers, X pipers, five rings, X hen'"
      ]
     },
     "execution_count": 30,
     "metadata": {},
     "output_type": "execute_result"
    }
   ],
   "source": [
    "import re\n",
    "numReg = re.compile(r'\\d+')\n",
    "numReg.sub('X', '11 drummers, 10 pipers, five rings, 4 hen')"
   ]
  },
  {
   "cell_type": "markdown",
   "id": "e01698f5-23b8-4a2f-b8ce-12dbd88f2efc",
   "metadata": {},
   "source": [
    "### 19. What does passing re.VERBOSE as the 2nd argument to re.compile() allow to do?"
   ]
  },
  {
   "cell_type": "markdown",
   "id": "f3b24ab4-cea3-43e8-baba-2bc1a89a12d5",
   "metadata": {},
   "source": [
    "re.VERBOSE will allow to add whitespace and comments to string passed to re.compile()"
   ]
  },
  {
   "cell_type": "code",
   "execution_count": 31,
   "id": "31dbd980-b12a-4b5a-a113-e4bea02d1764",
   "metadata": {},
   "outputs": [],
   "source": [
    "# Without Using VERBOSE\n",
    "regex_email = re.compile(r'^([a-z0-9_\\.-]+)@([0-9a-z\\.-]+)\\.([a-z\\.]{2, 6})$', re.IGNORECASE)\n",
    " \n",
    "# Using VERBOSE\n",
    "regex_email = re.compile(r\"\"\"\n",
    "                            ^([a-z0-9_\\.-]+)              # local Part like username\n",
    "                            @                             # single @ sign \n",
    "                            ([0-9a-z\\.-]+)                # Domain name like google\n",
    "                            \\.                            # single Dot .\n",
    "                            ([a-z]{2,6})$                 # Top level Domain  like com/in/org\n",
    "                         \"\"\",re.VERBOSE | re.IGNORECASE)   "
   ]
  },
  {
   "cell_type": "markdown",
   "id": "b7b8f765-c186-49a8-9463-42923927a057",
   "metadata": {},
   "source": [
    "### 20. How would you write a regex that match a number with comma for every three digits? It must match the given following:\n",
    "### &#39;42&#39;\n",
    "### &#39;1,234&#39;\n",
    "### &#39;6,368,745&#39;\n",
    "### but not the following:\n",
    "### &#39;12,34,567&#39; (which has only two digits between the commas)\n",
    "### &#39;1234&#39; (which lacks commas)"
   ]
  },
  {
   "cell_type": "code",
   "execution_count": 32,
   "id": "5cf54b96-d322-49f3-b279-789a3a15e7c2",
   "metadata": {},
   "outputs": [
    {
     "name": "stdout",
     "output_type": "stream",
     "text": [
      "Output: 42 -> <re.Match object; span=(0, 2), match='42'>\n",
      "Output: 1,234 -> <re.Match object; span=(0, 5), match='1,234'>\n",
      "Output: 6,368,745 -> <re.Match object; span=(0, 9), match='6,368,745'>\n",
      "Output: 12,34,567 -> None\n",
      "Output: 1234 -> None\n"
     ]
    }
   ],
   "source": [
    "import re\n",
    "pattern = r'^\\d{1,3}(,\\d{3})*$'\n",
    "pagex = re.compile(pattern)\n",
    "for ele in ['42','1,234', '6,368,745','12,34,567','1234']:\n",
    "    print('Output:',ele, '->', pagex.search(ele))"
   ]
  },
  {
   "cell_type": "markdown",
   "id": "cbf8e6c3-19cf-437f-898b-78a1acdca82c",
   "metadata": {},
   "source": [
    "### 21. How would you write a regex that matches the full name of someone whose last name is Watanabe? You can assume that the first name that comes before it will always be one word thatbegins with a capital letter. The regex must match the following:\n",
    "### &#39;Haruto Watanabe&#39;\n",
    "### &#39;Alice Watanabe&#39;\n",
    "### &#39;RoboCop Watanabe&#39;\n",
    "### but not the following:\n",
    "### &#39;haruto Watanabe&#39; (where the first name is not capitalized)\n",
    "### &#39;Mr. Watanabe&#39; (where the preceding word has a nonletter character)\n",
    "### &#39;Watanabe&#39; (which has no first name)\n",
    "### &#39;Haruto watanabe&#39; (where Watanabe is not capitalized)"
   ]
  },
  {
   "cell_type": "markdown",
   "id": "1f2558ad-4643-414a-a7b8-d1bafe031393",
   "metadata": {},
   "source": [
    "pattern = r'[A-Z]{1}[a-z]*\\sWatanabe'"
   ]
  },
  {
   "cell_type": "code",
   "execution_count": 33,
   "id": "d8050bd9-cfa3-4ac4-a7fb-9b1bc62e37ec",
   "metadata": {},
   "outputs": [
    {
     "name": "stdout",
     "output_type": "stream",
     "text": [
      "Output:  Haruto Watanabe -> <re.Match object; span=(0, 15), match='Haruto Watanabe'>\n",
      "Output:  Alice Watanabe -> <re.Match object; span=(0, 14), match='Alice Watanabe'>\n",
      "Output:  RoboCop Watanabe -> <re.Match object; span=(4, 16), match='Cop Watanabe'>\n",
      "Output:  haruto Watanabe -> None\n",
      "Output:  Mr. Watanabe -> None\n",
      "Output:  Watanabe -> None\n",
      "Output:  Haruto watanabe -> None\n"
     ]
    }
   ],
   "source": [
    "import re\n",
    "pattern = r'[A-Z]{1}[a-z]*\\sWatanabe'\n",
    "namex = re.compile(pattern)\n",
    "for name in ['Haruto Watanabe','Alice Watanabe','RoboCop Watanabe','haruto Watanabe','Mr. Watanabe','Watanabe','Haruto watanabe']:\n",
    "    print('Output: ',name,'->',namex.search(name))"
   ]
  },
  {
   "cell_type": "markdown",
   "id": "f946be27-09a0-439f-8b66-370a9b606b0c",
   "metadata": {},
   "source": [
    "### 22. How would you write a regex that matches a sentence where the first word is either Alice, Bob,or Carol; the second word is either eats, pets, or throws; the third word is apples, cats, or baseballs; and the sentence ends with a period? This regex should be case-insensitive. It must match the following:\n",
    "### &#39;Alice eats apples.&#39;\n",
    "### &#39;Bob pets cats.&#39;\n",
    "### &#39;Carol throws baseballs.&#39;\n",
    "### &#39;Alice throws Apples.&#39;\n",
    "### &#39;BOB EATS CATS.&#39;\n",
    "### but not the following:\n",
    "### &#39;RoboCop eats apples.&#39;\n",
    "### &#39;ALICE THROWS FOOTBALLS.&#39;\n",
    "### &#39;Carol eats 7 cats.&#39;"
   ]
  },
  {
   "cell_type": "markdown",
   "id": "37bca4f2-f12a-48b9-bbfb-f0c57eeb12af",
   "metadata": {},
   "source": [
    "pattern = r'(Alice|Bob|Carol)\\s(eats|pets|throws)\\s(apples|cats|baseballs)\\.'"
   ]
  },
  {
   "cell_type": "code",
   "execution_count": 34,
   "id": "b5a0e24f-dcf3-48ab-83cf-c923ca0f76e4",
   "metadata": {},
   "outputs": [
    {
     "name": "stdout",
     "output_type": "stream",
     "text": [
      "Output:  Alice eats apples. -> <re.Match object; span=(0, 18), match='Alice eats apples.'>\n",
      "Output:  Bob pets cats. -> <re.Match object; span=(0, 14), match='Bob pets cats.'>\n",
      "Output:  Carol throws baseballs. -> <re.Match object; span=(0, 23), match='Carol throws baseballs.'>\n",
      "Output:  Alice throws Apples. -> <re.Match object; span=(0, 20), match='Alice throws Apples.'>\n",
      "Output:  BOB EATS CATS. -> <re.Match object; span=(0, 14), match='BOB EATS CATS.'>\n",
      "Output:  RoboCop eats apples. -> None\n",
      "Output:  ALICE THROWS FOOTBALLS. -> None\n",
      "Output:  Carol eats 7 cats. -> None\n"
     ]
    }
   ],
   "source": [
    "import re\n",
    "pattern = r'(Alice|Bob|Carol)\\s(eats|pets|throws)\\s(apples|cats|baseballs)\\.'\n",
    "casex = re.compile(pattern,re.IGNORECASE)\n",
    "for ele in ['Alice eats apples.','Bob pets cats.','Carol throws baseballs.','Alice throws Apples.','BOB EATS CATS.','RoboCop eats apples.'\n",
    ",'ALICE THROWS FOOTBALLS.','Carol eats 7 cats.']:\n",
    "    print('Output: ',ele,'->',casex.search(ele))"
   ]
  },
  {
   "cell_type": "code",
   "execution_count": null,
   "id": "26ba504d-d035-4483-a16d-fdcc822c0aa0",
   "metadata": {},
   "outputs": [],
   "source": []
  }
 ],
 "metadata": {
  "kernelspec": {
   "display_name": "Python 3 (ipykernel)",
   "language": "python",
   "name": "python3"
  },
  "language_info": {
   "codemirror_mode": {
    "name": "ipython",
    "version": 3
   },
   "file_extension": ".py",
   "mimetype": "text/x-python",
   "name": "python",
   "nbconvert_exporter": "python",
   "pygments_lexer": "ipython3",
   "version": "3.9.12"
  }
 },
 "nbformat": 4,
 "nbformat_minor": 5
}
