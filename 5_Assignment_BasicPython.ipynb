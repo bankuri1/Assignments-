{
 "cells": [
  {
   "cell_type": "markdown",
   "id": "bd196f34-bd2a-4bba-9018-2a638b0baeae",
   "metadata": {},
   "source": [
    "### 1. What does an empty dictionary&#39;s code look like?"
   ]
  },
  {
   "cell_type": "markdown",
   "id": "d16f43fd-06eb-4792-8396-284a473eb525",
   "metadata": {},
   "source": [
    "{}"
   ]
  },
  {
   "cell_type": "markdown",
   "id": "c78a0156-3e3c-46d3-b7ed-f345f44b149b",
   "metadata": {},
   "source": [
    "### 2. What is the value of a dictionary value with the key &#39;foo&#39; and the value 42?"
   ]
  },
  {
   "cell_type": "markdown",
   "id": "a942166f-223b-4192-8a44-ae4fabf19624",
   "metadata": {},
   "source": [
    "d={\"foo\": 42}"
   ]
  },
  {
   "cell_type": "markdown",
   "id": "dc0fbd89-a1ef-4cd1-b38d-0ce5ad6d2dcf",
   "metadata": {},
   "source": [
    "### 3. What is the most significant distinction between a dictionary and a list?"
   ]
  },
  {
   "cell_type": "markdown",
   "id": "7991b866-faf1-457d-b9d6-ca669d1d56c9",
   "metadata": {},
   "source": [
    "The values stored in dictionary are key value pairs and values stored in unordered way while in list only values store and in ordered way"
   ]
  },
  {
   "cell_type": "markdown",
   "id": "7a2d36e9-27b8-4b18-8e26-3a79520357cd",
   "metadata": {},
   "source": [
    "### 4. What happens if you try to access spam[&#39;foo&#39;] if spam is {&#39;bar&#39;: 100}?"
   ]
  },
  {
   "cell_type": "markdown",
   "id": "32025749-5581-4717-826b-f26ea4635a7b",
   "metadata": {},
   "source": [
    "It gives a keyError"
   ]
  },
  {
   "cell_type": "markdown",
   "id": "3172fdfa-735b-4b6f-9a06-1b7046376a8f",
   "metadata": {},
   "source": [
    "###  5. If a dictionary is stored in spam, what is the difference between the expressions &#39;cat&#39; in spam and &#39;cat&#39; in spam.keys()?"
   ]
  },
  {
   "cell_type": "markdown",
   "id": "734c2c2d-62d2-44c0-b291-4eeea3002c7b",
   "metadata": {},
   "source": [
    "Both are same \"cat \" in spam and \"cat\" in spam.keys() both checks whether this cat key present in dictionary or not."
   ]
  },
  {
   "cell_type": "markdown",
   "id": "11047a25-7996-4d3e-afd8-0c9d56fcbfe3",
   "metadata": {},
   "source": [
    "### 6. If a dictionary is stored in spam, what is the difference between the expressions &#39;cat&#39; in spam and &#39;cat&#39; in spam.values()?"
   ]
  },
  {
   "cell_type": "markdown",
   "id": "740ccb63-824c-4aa0-ab9c-bab1f1b5aaa1",
   "metadata": {},
   "source": [
    "'cat' in spam will cheack whether the cat is present as a key in dictionary while 'cat' in spam.values() will check whether cat is present as value in dictionary "
   ]
  },
  {
   "cell_type": "markdown",
   "id": "190ce200-1562-41e5-985c-374d5a51789d",
   "metadata": {},
   "source": [
    "### 7. What is a shortcut for the following code?\n",
    "### if &#39;color&#39; not in spam:\n",
    "### spam[&#39;color&#39;] = &#39;black&#39;"
   ]
  },
  {
   "cell_type": "markdown",
   "id": "bf9e8cb8-d460-4673-9598-945633d08cab",
   "metadata": {},
   "source": [
    "spam.setdefault('color','black')"
   ]
  },
  {
   "cell_type": "markdown",
   "id": "d092cab5-320a-4538-aec4-f2cca3a6c364",
   "metadata": {},
   "source": [
    "### 8. How do you &quot;pretty print&quot; dictionary values using which module and function?"
   ]
  },
  {
   "cell_type": "markdown",
   "id": "ca3e3a77-25e8-4bfe-a5ef-83e94a2a64d2",
   "metadata": {},
   "source": [
    "pprint.pprint()"
   ]
  }
 ],
 "metadata": {
  "kernelspec": {
   "display_name": "Python 3 (ipykernel)",
   "language": "python",
   "name": "python3"
  },
  "language_info": {
   "codemirror_mode": {
    "name": "ipython",
    "version": 3
   },
   "file_extension": ".py",
   "mimetype": "text/x-python",
   "name": "python",
   "nbconvert_exporter": "python",
   "pygments_lexer": "ipython3",
   "version": "3.9.12"
  }
 },
 "nbformat": 4,
 "nbformat_minor": 5
}
