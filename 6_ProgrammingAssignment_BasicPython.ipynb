{
 "cells": [
  {
   "cell_type": "markdown",
   "id": "f84d796c-ab21-421a-afbf-bd3aefa79c49",
   "metadata": {},
   "source": [
    "### 1. Write a Python Program to Display Fibonacci Sequence Using Recursion?"
   ]
  },
  {
   "cell_type": "code",
   "execution_count": 12,
   "id": "35afe8ce-467f-40a8-bc14-d12270ee9ed1",
   "metadata": {},
   "outputs": [],
   "source": [
    "def rec_fib(n):\n",
    "    if n<=1:\n",
    "        return n\n",
    "    else:\n",
    "        return (rec_fib(n-1)+rec_fib(n-2))\n",
    "   "
   ]
  },
  {
   "cell_type": "code",
   "execution_count": 16,
   "id": "22025068-5b8e-4e8a-bb46-1c77fb4816db",
   "metadata": {},
   "outputs": [
    {
     "name": "stdin",
     "output_type": "stream",
     "text": [
      "Enter how many terms 15\n"
     ]
    },
    {
     "name": "stdout",
     "output_type": "stream",
     "text": [
      "Fibbonacci Sequence\n",
      "0\n",
      "1\n",
      "1\n",
      "2\n",
      "3\n",
      "5\n",
      "8\n",
      "13\n",
      "21\n",
      "34\n",
      "55\n",
      "89\n",
      "144\n",
      "233\n",
      "377\n"
     ]
    }
   ],
   "source": [
    "nterms=int(input(\"Enter how many terms\"))\n",
    "if nterms <=0:\n",
    "    print(\"Please enter a positive number\")\n",
    "else:\n",
    "    print(\"Fibbonacci Sequence\")\n",
    "    for i in range(nterms):\n",
    "        print(rec_fib(i))"
   ]
  },
  {
   "cell_type": "markdown",
   "id": "65aa331d-635d-4442-8a66-ee89d4a0bd12",
   "metadata": {},
   "source": [
    "### 2. Write a Python Program to Find Factorial of Number Using Recursion?\n"
   ]
  },
  {
   "cell_type": "code",
   "execution_count": 20,
   "id": "c305af9d-d581-403e-864f-91f9f7c6bef6",
   "metadata": {},
   "outputs": [],
   "source": [
    "def rec_fac(n):\n",
    "    if n ==1 or n==0:\n",
    "        return 1\n",
    "    else:\n",
    "        return (n*rec_fac(n-1))\n",
    "    "
   ]
  },
  {
   "cell_type": "code",
   "execution_count": 25,
   "id": "40a77fe3-94fc-4fc1-8e31-4fe4915a4ce1",
   "metadata": {},
   "outputs": [
    {
     "name": "stdin",
     "output_type": "stream",
     "text": [
      "Enter number 10\n"
     ]
    },
    {
     "name": "stdout",
     "output_type": "stream",
     "text": [
      "Factorial of number 10 is\n",
      "3628800\n"
     ]
    }
   ],
   "source": [
    "n=int(input(\"Enter number\"))\n",
    "print(f\"Factorial of number {n} is\")\n",
    "print(rec_fac(n))"
   ]
  },
  {
   "cell_type": "markdown",
   "id": "43986909-072a-4ce2-ba7b-a5d9d262b0c9",
   "metadata": {},
   "source": [
    "### 3. Write a Python Program to calculate your Body Mass Index?"
   ]
  },
  {
   "cell_type": "code",
   "execution_count": 28,
   "id": "a8c7ab71-2ad6-4434-a2f1-e25ab9222e62",
   "metadata": {},
   "outputs": [],
   "source": [
    "def bmi(height,weight):\n",
    "    calc_bmi=weight/pow(height,2)\n",
    "    calc_bmi = weight/pow(height,2)\n",
    "    if (calc_bmi < 18.5):\n",
    "        status = 'Underweight'\n",
    "    elif (calc_bmi >= 18.5 and calc_bmi < 24.9):\n",
    "        status = 'Healthy'\n",
    "    elif (calc_bmi >= 24.9 and calc_bmi < 30):\n",
    "        status = 'Overweight'\n",
    "    elif (calc_bmi >=30):\n",
    "        status = 'Suffering from Obesity'\n",
    "    print(f'Your\\'re BMI is {calc_bmi} and status is {status} ')"
   ]
  },
  {
   "cell_type": "code",
   "execution_count": 29,
   "id": "efbeb983-b494-4e85-b747-1948733ca7ce",
   "metadata": {},
   "outputs": [
    {
     "name": "stdout",
     "output_type": "stream",
     "text": [
      "Your're BMI is 21.604938271604937 and status is Healthy \n"
     ]
    }
   ],
   "source": [
    "bmi(1.8,70)"
   ]
  },
  {
   "cell_type": "markdown",
   "id": "cb503819-577e-4bdc-a02b-9d5d9e932316",
   "metadata": {},
   "source": [
    "### 4. Write a Python Program to calculate the natural logarithm of any number?"
   ]
  },
  {
   "cell_type": "code",
   "execution_count": 31,
   "id": "7f9de49f-fbef-473d-9d79-d9594be4391d",
   "metadata": {},
   "outputs": [],
   "source": [
    "import math\n",
    "def genNatLog():\n",
    "    num=int(input(\"Enter a number\"))\n",
    "    print(math.log(num))"
   ]
  },
  {
   "cell_type": "code",
   "execution_count": 33,
   "id": "26275592-e99a-43e3-a18b-e98be6a0b77e",
   "metadata": {},
   "outputs": [
    {
     "name": "stdin",
     "output_type": "stream",
     "text": [
      "Enter a number 32\n"
     ]
    },
    {
     "name": "stdout",
     "output_type": "stream",
     "text": [
      "3.4657359027997265\n"
     ]
    }
   ],
   "source": [
    "genNatLog()"
   ]
  },
  {
   "cell_type": "markdown",
   "id": "af955d54-c5d8-45ad-b560-fe6cc48b5950",
   "metadata": {},
   "source": [
    "### 5. Write a Python Program for cube sum of first n natural numbers?"
   ]
  },
  {
   "cell_type": "code",
   "execution_count": 34,
   "id": "f2f23636-b005-41fd-a76a-8c4f71bd1c21",
   "metadata": {},
   "outputs": [],
   "source": [
    "def cube():\n",
    "    num=int(input(\"Enter number\"))\n",
    "    result=pow(((num*(num+1))/2),3)\n",
    "    print(f'The Cube Sum of First {num} Natural Numbers is {result}')"
   ]
  },
  {
   "cell_type": "code",
   "execution_count": 35,
   "id": "ec7066b9-6f43-469b-8307-19cb043a9f4c",
   "metadata": {},
   "outputs": [
    {
     "name": "stdin",
     "output_type": "stream",
     "text": [
      "Enter number 3\n"
     ]
    },
    {
     "name": "stdout",
     "output_type": "stream",
     "text": [
      "The Cube Sum of First 3 Natural Numbers is 216.0\n"
     ]
    }
   ],
   "source": [
    "cube()"
   ]
  },
  {
   "cell_type": "code",
   "execution_count": null,
   "id": "7df0e403-9d05-4345-98df-cdc9afe1dded",
   "metadata": {},
   "outputs": [],
   "source": []
  }
 ],
 "metadata": {
  "kernelspec": {
   "display_name": "Python 3 (ipykernel)",
   "language": "python",
   "name": "python3"
  },
  "language_info": {
   "codemirror_mode": {
    "name": "ipython",
    "version": 3
   },
   "file_extension": ".py",
   "mimetype": "text/x-python",
   "name": "python",
   "nbconvert_exporter": "python",
   "pygments_lexer": "ipython3",
   "version": "3.9.12"
  }
 },
 "nbformat": 4,
 "nbformat_minor": 5
}
