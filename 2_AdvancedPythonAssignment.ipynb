{
 "cells": [
  {
   "cell_type": "markdown",
   "id": "cfa3a859-8ae3-4556-8c14-2276bfa4b4c3",
   "metadata": {},
   "source": [
    "### Q1. What is the relationship between classes and modules?"
   ]
  },
  {
   "cell_type": "markdown",
   "id": "b2fbb97d-c7f9-4150-b510-5ed114c52004",
   "metadata": {},
   "source": [
    " Module is a asimple way to organize code It is the collection of classes\n",
    " or functions.If classes and functions needed from modules you just import them \n",
    " and simply use them .classes are the blueprints of creating objects."
   ]
  },
  {
   "cell_type": "markdown",
   "id": "834c2ea0-dade-42c0-b8df-94c622ad7b6d",
   "metadata": {},
   "source": [
    "### Q2. How do you make instances and classes?"
   ]
  },
  {
   "cell_type": "markdown",
   "id": "81a44ad5-7011-4984-bb73-5bbd72b99b93",
   "metadata": {},
   "source": [
    "Classes can be make using class keyword following with the classname and semicolon\n"
   ]
  },
  {
   "cell_type": "markdown",
   "id": "4b5d5a12-c2d2-4a1c-9c03-1ad8587cbb6b",
   "metadata": {},
   "source": [
    "Syntax:\n",
    "   \n",
    "       \n",
    "        \n",
    "   "
   ]
  },
  {
   "cell_type": "raw",
   "id": "e150fe78-05e0-4479-ae2a-063c7370691a",
   "metadata": {},
   "source": [
    " class test:\n",
    "         def __init__(self,a):\n",
    "                 self.a=a"
   ]
  },
  {
   "cell_type": "markdown",
   "id": "3ffd7db9-2528-4ef8-8f5f-450c8660c645",
   "metadata": {},
   "source": [
    "while instances are created using class name and passes the arguments which \n",
    "its __init__ method accept.   "
   ]
  },
  {
   "cell_type": "markdown",
   "id": "62a0f104-34e6-470a-84d0-6dd718fe21cf",
   "metadata": {},
   "source": [
    "Syntax:"
   ]
  },
  {
   "cell_type": "markdown",
   "id": "c93300c8-5cef-45a8-83a7-d61284f5583a",
   "metadata": {},
   "source": [
    "t=test(10)"
   ]
  },
  {
   "cell_type": "markdown",
   "id": "96bfc170-978f-4c15-a6d6-a2660724ada4",
   "metadata": {},
   "source": [
    "### Q3. Where and how should be class attributes created?"
   ]
  },
  {
   "cell_type": "markdown",
   "id": "bff62175-7fe3-43c6-911c-575499862390",
   "metadata": {},
   "source": [
    "Class Attributes are shared by all the instances of the class .Hence these attributes are usually defined in the top of the class deinitions outside all the methods."
   ]
  },
  {
   "cell_type": "markdown",
   "id": "f46caeeb-d5bb-48f0-8783-463a2cabc57e",
   "metadata": {},
   "source": [
    "class attributes should be created like this:\n",
    "\n"
   ]
  },
  {
   "cell_type": "raw",
   "id": "58479699-da88-4896-b892-d763515fb2ed",
   "metadata": {},
   "source": [
    "class car:\n",
    "    no_of_wheels=4 # class attribute\n",
    "    def __init__(self,color,engine,model):\n",
    "        #instance attributes\n",
    "        self.color=color\n",
    "        self.engine=engine\n",
    "        self.model=model"
   ]
  },
  {
   "cell_type": "markdown",
   "id": "8a47751c-3de5-410f-8b65-777061b40218",
   "metadata": {},
   "source": [
    "### Q4. Where and how are instance attributes created?"
   ]
  },
  {
   "cell_type": "markdown",
   "id": "b9ece628-e61f-45da-9a64-8bbdebc6e6b3",
   "metadata": {},
   "source": [
    "instance attributes are pass to the class when an object of the class is created.Unlike class attributes ,instance attributes are not shared by all the objects of the class instead each object maintains it's own copy of instance attribute at object level.Whereas in case of class attribute all instance of the class refer to a single copy .Usually instance attribute are defined within the __init__ method of class."
   ]
  },
  {
   "cell_type": "markdown",
   "id": "47225361-a87b-4be6-9d20-847a38af8540",
   "metadata": {},
   "source": [
    "Instance attributes are created like this:"
   ]
  },
  {
   "cell_type": "raw",
   "id": "7894ac41-964f-4bef-954a-39575a31df11",
   "metadata": {},
   "source": [
    "class car:\n",
    "    no_of_wheels=4 # class attribute\n",
    "    def __init__(self,color,engine,model):\n",
    "        #instance attributes\n",
    "        self.color=color\n",
    "        self.engine=engine\n",
    "        self.model=model\n"
   ]
  },
  {
   "cell_type": "markdown",
   "id": "d12187bd-aed7-4e25-bf50-7c485cd9c586",
   "metadata": {},
   "source": [
    "### Q5. What does the term &quot;self&quot; in a Python class mean?"
   ]
  },
  {
   "cell_type": "markdown",
   "id": "97567929-6e58-4e02-b589-80ead7a8b277",
   "metadata": {},
   "source": [
    "Self is the pointer in the python class it always pointing to the current object or It represent the instance of the class.By using self we can access the attributes and methods of the class .It binds the attribute with the given argument .class accept only those ttributes which are initialize using self only."
   ]
  },
  {
   "cell_type": "markdown",
   "id": "ca616043-8e52-4d52-8d02-e6ba6ae7c765",
   "metadata": {},
   "source": [
    "for example"
   ]
  },
  {
   "cell_type": "raw",
   "id": "0a40ae8b-af99-4c30-8155-451603dc8379",
   "metadata": {},
   "source": [
    "class test:\n",
    "    def __init__(self,a,b,c):\n",
    "        self.a=a\n",
    "        self.b=b\n",
    "        self.c=c\n",
    "    "
   ]
  },
  {
   "cell_type": "raw",
   "id": "77d4a732-3254-4d48-96b9-17a7f52c5f57",
   "metadata": {},
   "source": [
    "t=test(10,20,30)"
   ]
  },
  {
   "cell_type": "markdown",
   "id": "0dd8170f-a892-4d78-89c3-ee362d500c13",
   "metadata": {},
   "source": [
    "### Q6. How does a Python class handle operator overloading?"
   ]
  },
  {
   "cell_type": "markdown",
   "id": "b1c12319-06b5-48b1-bd42-26d652f16810",
   "metadata": {},
   "source": [
    "Python class handle operator overloading by using special Magic methods.These special methods begin and ends with __ (double underscore)"
   ]
  },
  {
   "cell_type": "markdown",
   "id": "08197b63-b98e-4999-85c8-6406bfe95cf1",
   "metadata": {},
   "source": [
    "Magic Method for basic airthemetic operators are"
   ]
  },
  {
   "cell_type": "raw",
   "id": "acc99624-e8e8-4a2e-ad2e-829281ff21c6",
   "metadata": {},
   "source": [
    "+ -> __add__()\n",
    "- -> __sub__()\n",
    "* -> __mul__()\n",
    "/ -> __div__()"
   ]
  },
  {
   "cell_type": "code",
   "execution_count": 4,
   "id": "f9a2acdd-94fd-4539-8064-5020414ed819",
   "metadata": {},
   "outputs": [
    {
     "name": "stdout",
     "output_type": "stream",
     "text": [
      "The total number of pages in 2 books is 300\n"
     ]
    }
   ],
   "source": [
    "class book:\n",
    "    def __init__(self,pages):\n",
    "        self.pages=pages\n",
    "    def __add__(self,other):\n",
    "        self.other=other\n",
    "        return self.pages+other.pages\n",
    "b1=book(100)\n",
    "b2=book(200)\n",
    "print(f'The total number of pages in 2 books is {b1+b2}')"
   ]
  },
  {
   "cell_type": "markdown",
   "id": "64b1f9c0-6fb6-4dda-9136-5e63f6c8cea0",
   "metadata": {},
   "source": [
    "### Q7. When do you consider allowing operator overloading of your classes?"
   ]
  },
  {
   "cell_type": "markdown",
   "id": "34c2437a-f2d5-4c1b-b5f6-9db1c1160a15",
   "metadata": {},
   "source": [
    "When we want to have different meaning for the same operator accroding to the context we use operator overloading."
   ]
  },
  {
   "cell_type": "markdown",
   "id": "49c4c2d0-a9ea-402c-8dc1-f8612b53b6d0",
   "metadata": {},
   "source": [
    "### Q8. What is the most popular form of operator overloading?"
   ]
  },
  {
   "cell_type": "markdown",
   "id": "04dc317b-6923-443b-8fc9-019033f31c65",
   "metadata": {},
   "source": [
    "The most popular form of operator overloading in python is by special methods called Magic methods. Which usually beign and end with double underscore ____."
   ]
  },
  {
   "cell_type": "code",
   "execution_count": 1,
   "id": "6a5d24a0-8432-414a-988d-505f85ccff6b",
   "metadata": {},
   "outputs": [
    {
     "name": "stdout",
     "output_type": "stream",
     "text": [
      "Sum -> 3\n",
      "String Concatenation -> BankuriSingal\n"
     ]
    }
   ],
   "source": [
    "class A:\n",
    "    def __init__(self,a):\n",
    "        self.a = a\n",
    "    def __add__(self,o):\n",
    "        return self.a+o.a\n",
    "obj1 = A(1)\n",
    "obj2 = A(2)\n",
    "obj3 = A('Bankuri')\n",
    "obj4 = A('Singal')\n",
    "print(f'Sum -> {obj1+obj2}')\n",
    "print(f'String Concatenation -> {obj3+obj4}')"
   ]
  },
  {
   "cell_type": "markdown",
   "id": "9e6c4483-ac6f-4cf9-b4a5-87cb5bf6386a",
   "metadata": {},
   "source": [
    "### Q9. What are the two most important concepts to grasp in order to comprehend Python OOP code?"
   ]
  },
  {
   "cell_type": "markdown",
   "id": "af35642e-fe09-47be-b9d9-17bca03ac2bd",
   "metadata": {},
   "source": [
    "Classes and objects are the two concepts to comprehend python OOP code as more formally objects are entities that represent instances of general abstract concept called class\n",
    "\n",
    "Along with classes and objects the important concepts to grasp are:\n",
    "\n",
    "1)Inheritence\n",
    "2)Abstraction\n",
    "3)Polymorphism\n",
    "4)Encapsulation"
   ]
  }
 ],
 "metadata": {
  "kernelspec": {
   "display_name": "Python 3 (ipykernel)",
   "language": "python",
   "name": "python3"
  },
  "language_info": {
   "codemirror_mode": {
    "name": "ipython",
    "version": 3
   },
   "file_extension": ".py",
   "mimetype": "text/x-python",
   "name": "python",
   "nbconvert_exporter": "python",
   "pygments_lexer": "ipython3",
   "version": "3.9.12"
  }
 },
 "nbformat": 4,
 "nbformat_minor": 5
}
