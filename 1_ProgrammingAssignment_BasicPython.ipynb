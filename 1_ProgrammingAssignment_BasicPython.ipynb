{
 "cells": [
  {
   "cell_type": "markdown",
   "id": "2eccc4aa-7686-4277-9cee-810f8426f29e",
   "metadata": {},
   "source": [
    "### 1. Write a Python program to print &quot;Hello Python&quot;?"
   ]
  },
  {
   "cell_type": "code",
   "execution_count": 22,
   "id": "cb42e693-cdfc-4e6d-aca2-86ec9022050a",
   "metadata": {},
   "outputs": [],
   "source": [
    "class python:\n",
    "    def printHP(self):\n",
    "        print(\"Hello Python\")"
   ]
  },
  {
   "cell_type": "code",
   "execution_count": 23,
   "id": "4311f5c3-d272-42c8-a868-6034ffc1a694",
   "metadata": {},
   "outputs": [],
   "source": [
    "p=python()"
   ]
  },
  {
   "cell_type": "code",
   "execution_count": 24,
   "id": "bba0ba1f-c5ca-4491-966f-5dd932351b9b",
   "metadata": {},
   "outputs": [
    {
     "name": "stdout",
     "output_type": "stream",
     "text": [
      "Hello Python\n"
     ]
    }
   ],
   "source": [
    "p.printHP()"
   ]
  },
  {
   "cell_type": "markdown",
   "id": "264121a9-6a2f-4dad-9c07-a286868bc2c2",
   "metadata": {},
   "source": [
    "### 2. Write a Python program to do arithmetical operations addition and division.?"
   ]
  },
  {
   "cell_type": "code",
   "execution_count": 25,
   "id": "856eb34f-fa8f-4de7-8db5-c020ca10bd48",
   "metadata": {},
   "outputs": [],
   "source": [
    "class Python:\n",
    "    def __init__(self,a,b):\n",
    "        self.a=a\n",
    "        self.b=b\n",
    "    def add(self):\n",
    "        return self.a+self.b\n",
    "    def div(self):\n",
    "        return self.a/self.b"
   ]
  },
  {
   "cell_type": "code",
   "execution_count": 26,
   "id": "aab2442f-0800-4291-b31d-f3b321a4c89d",
   "metadata": {},
   "outputs": [],
   "source": [
    "q=Python(4,2)"
   ]
  },
  {
   "cell_type": "code",
   "execution_count": 27,
   "id": "bb6b78c6-5a26-4b79-bdce-6bbcc9276363",
   "metadata": {},
   "outputs": [
    {
     "data": {
      "text/plain": [
       "6"
      ]
     },
     "execution_count": 27,
     "metadata": {},
     "output_type": "execute_result"
    }
   ],
   "source": [
    "q.add()"
   ]
  },
  {
   "cell_type": "code",
   "execution_count": 28,
   "id": "8af98027-f06a-442d-9dda-d8f0aaa17e5b",
   "metadata": {},
   "outputs": [
    {
     "data": {
      "text/plain": [
       "2.0"
      ]
     },
     "execution_count": 28,
     "metadata": {},
     "output_type": "execute_result"
    }
   ],
   "source": [
    "q.div()"
   ]
  },
  {
   "cell_type": "markdown",
   "id": "f76b9c24-48dd-426f-85f6-7f171e78e588",
   "metadata": {},
   "source": [
    "### 3. Write a Python program to find the area of a triangle?"
   ]
  },
  {
   "cell_type": "code",
   "execution_count": 29,
   "id": "7962227c-bdc0-494d-bcdb-ff59bd3c2793",
   "metadata": {},
   "outputs": [],
   "source": [
    "class triangle:\n",
    "    def __init__(self,first_side,second_side,third_side):\n",
    "        self.a=first_side\n",
    "        self.b=second_side\n",
    "        self.c=third_side\n",
    "    def areaOfTriangle(self):\n",
    "        s=(self.a+self.b+self.c)/2\n",
    "        area = (s*(s-self.a)*(s-self.b)*(s-self.c)) ** 0.5\n",
    "        return area\n",
    "        "
   ]
  },
  {
   "cell_type": "code",
   "execution_count": 30,
   "id": "156c4b2d-c303-46be-a1a8-02acefe3e753",
   "metadata": {},
   "outputs": [],
   "source": [
    "a= triangle(3,4,6)"
   ]
  },
  {
   "cell_type": "code",
   "execution_count": 31,
   "id": "ad0091ab-9a7f-4210-8c90-2411f6a37aa4",
   "metadata": {},
   "outputs": [
    {
     "data": {
      "text/plain": [
       "5.332682251925386"
      ]
     },
     "execution_count": 31,
     "metadata": {},
     "output_type": "execute_result"
    }
   ],
   "source": [
    "a.areaOfTriangle()"
   ]
  },
  {
   "cell_type": "markdown",
   "id": "a5f9d26c-5af0-45bb-8ff2-6d76ea128be5",
   "metadata": {},
   "source": [
    "### 4. Write a Python program to swap two variables?"
   ]
  },
  {
   "cell_type": "code",
   "execution_count": 64,
   "id": "5fbd76aa-bab8-473c-b579-c4b3d62499a7",
   "metadata": {},
   "outputs": [],
   "source": [
    "class swapVariable:\n",
    "    def __init__(self,a,b):\n",
    "        self.a=a\n",
    "        self.b=b\n",
    "    def swap(self):\n",
    "        print(\"Before swap value of a is\",self.a,\" value of b is \",self.b)\n",
    "        self.a,self.b=self.b,self.a\n",
    "        print(\"After swap value of a is \",self.a,\" value of b is \",self.b)\n",
    "      "
   ]
  },
  {
   "cell_type": "code",
   "execution_count": 65,
   "id": "997487b7-f3fe-4d81-a888-968cc5489de3",
   "metadata": {},
   "outputs": [],
   "source": [
    "s=swapVariable(9,4)"
   ]
  },
  {
   "cell_type": "code",
   "execution_count": 66,
   "id": "13873ec7-aab8-4ea2-a1c9-5ab71cc7188f",
   "metadata": {},
   "outputs": [
    {
     "name": "stdout",
     "output_type": "stream",
     "text": [
      "Before swap value of a is 9  value of b is  4\n",
      "After swap value of a is  4  value of b is  9\n"
     ]
    }
   ],
   "source": [
    "s.swap()\n"
   ]
  },
  {
   "cell_type": "markdown",
   "id": "b50f1aa1-1da4-4d17-9198-ab22ca1aaf88",
   "metadata": {},
   "source": [
    "### 5. Write a Python program to generate a random number?\n"
   ]
  },
  {
   "cell_type": "code",
   "execution_count": 74,
   "id": "99018485-b8a4-4d23-9807-c368cdf2e605",
   "metadata": {},
   "outputs": [
    {
     "name": "stdout",
     "output_type": "stream",
     "text": [
      "0.38310895467374206\n"
     ]
    }
   ],
   "source": [
    "import random\n",
    "n=random.random()\n",
    "print(n)"
   ]
  }
 ],
 "metadata": {
  "kernelspec": {
   "display_name": "Python 3 (ipykernel)",
   "language": "python",
   "name": "python3"
  },
  "language_info": {
   "codemirror_mode": {
    "name": "ipython",
    "version": 3
   },
   "file_extension": ".py",
   "mimetype": "text/x-python",
   "name": "python",
   "nbconvert_exporter": "python",
   "pygments_lexer": "ipython3",
   "version": "3.9.12"
  }
 },
 "nbformat": 4,
 "nbformat_minor": 5
}
