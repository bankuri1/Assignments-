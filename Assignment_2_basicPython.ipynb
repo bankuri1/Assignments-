{
 "cells": [
  {
   "cell_type": "markdown",
   "id": "867fd368-75b9-4ce1-b645-53022c3f1ba2",
   "metadata": {},
   "source": [
    "### 1.What are the two values of the Boolean data type? How do you write them?"
   ]
  },
  {
   "cell_type": "markdown",
   "id": "95e20c42-d3ac-44e3-90a8-24984e808a1e",
   "metadata": {},
   "source": [
    "Two values of Boolean Datatype are True and False .We write them as True and False (First word capital and rest is small)"
   ]
  },
  {
   "cell_type": "markdown",
   "id": "a2c98ee2-d1e7-4174-9827-54ecf72b9c8c",
   "metadata": {},
   "source": [
    "### 2. What are the three different types of Boolean operators?"
   ]
  },
  {
   "cell_type": "markdown",
   "id": "c29cbb64-4ebf-4150-badc-64c825316240",
   "metadata": {},
   "source": [
    "and"
   ]
  },
  {
   "cell_type": "markdown",
   "id": "514cefbd-d136-401a-bb5f-be2285e1ae57",
   "metadata": {},
   "source": [
    "or"
   ]
  },
  {
   "cell_type": "markdown",
   "id": "40f4302e-d13a-4f41-b129-6533868f92e1",
   "metadata": {},
   "source": [
    "not"
   ]
  },
  {
   "cell_type": "markdown",
   "id": "b8f5216b-0a59-4f38-bf46-1d24501f8260",
   "metadata": {},
   "source": [
    "### 3. Make a list of each Boolean operator&#39;s truth tables (i.e. every possible combination of Booleanvalues for the operator and what it evaluate )."
   ]
  },
  {
   "cell_type": "markdown",
   "id": "7c17b1ab-0799-4634-9fb6-deae7ce69d5a",
   "metadata": {},
   "source": [
    "True and False = False"
   ]
  },
  {
   "cell_type": "markdown",
   "id": "e73dc026-2f6f-4ad7-9b5d-20c486efa764",
   "metadata": {},
   "source": [
    "True or False= True\n"
   ]
  },
  {
   "cell_type": "markdown",
   "id": "073bb89b-587b-4e1a-9c0a-0911ed317d0f",
   "metadata": {},
   "source": [
    "False and True = False"
   ]
  },
  {
   "cell_type": "markdown",
   "id": "46011167-9d0d-44c2-aacf-8332f8c59978",
   "metadata": {},
   "source": [
    "False or True= True"
   ]
  },
  {
   "cell_type": "markdown",
   "id": "12777ea4-09fa-4167-a5c3-90074f595ab7",
   "metadata": {},
   "source": [
    "False or False = False"
   ]
  },
  {
   "cell_type": "markdown",
   "id": "50782d15-5f77-4f52-86c7-153549cf7597",
   "metadata": {},
   "source": [
    "False and False = False"
   ]
  },
  {
   "cell_type": "markdown",
   "id": "dd7f0713-e68e-4b40-a006-832f7c2c8780",
   "metadata": {},
   "source": [
    "True and True = True"
   ]
  },
  {
   "cell_type": "markdown",
   "id": "a02013b4-1482-4322-aa9b-ec5b5c5342a3",
   "metadata": {},
   "source": [
    "True or True = True"
   ]
  },
  {
   "cell_type": "markdown",
   "id": "48b753d2-e957-4717-b6fc-b1fd9f040ce2",
   "metadata": {},
   "source": [
    "not True = False\n"
   ]
  },
  {
   "cell_type": "markdown",
   "id": "b9fa043a-a513-44f0-bfaf-b7d602810614",
   "metadata": {},
   "source": [
    "not False = True"
   ]
  },
  {
   "cell_type": "markdown",
   "id": "868a92ad-a4ce-4839-af7f-e8b2736dd3c0",
   "metadata": {},
   "source": [
    "### 4. What are the values of the following expressions?"
   ]
  },
  {
   "cell_type": "markdown",
   "id": "f7112c50-5209-4f9f-b93d-083c48ac10b4",
   "metadata": {},
   "source": [
    "(5 &gt; 4) and (3 == 5) =False"
   ]
  },
  {
   "cell_type": "markdown",
   "id": "bca142fc-2f83-4f6a-80b2-e6e91321c90a",
   "metadata": {},
   "source": [
    "not (5 &gt; 4) = False"
   ]
  },
  {
   "cell_type": "markdown",
   "id": "eba73b3b-4c45-4cf3-9ea6-096bc7d0ba4e",
   "metadata": {},
   "source": [
    "(5 &gt; 4) or (3 == 5) = True"
   ]
  },
  {
   "cell_type": "markdown",
   "id": "801540d9-8f7b-4dd1-8e14-10722bb24a0e",
   "metadata": {},
   "source": [
    "not ((5 &gt; 4) or (3 == 5))= False"
   ]
  },
  {
   "cell_type": "markdown",
   "id": "fc0c92c4-f674-43dc-9843-ebf159891371",
   "metadata": {},
   "source": [
    "(True and True) and (True == False) = False"
   ]
  },
  {
   "cell_type": "markdown",
   "id": "38c03c92-d8d2-4d83-856e-c875e0993de0",
   "metadata": {},
   "source": [
    "(not False) or (not True) =True"
   ]
  },
  {
   "cell_type": "markdown",
   "id": "5ab39766-3472-4ab6-b1ac-8640f907f7c6",
   "metadata": {},
   "source": [
    "###  5. What are the six comparison operators?"
   ]
  },
  {
   "cell_type": "markdown",
   "id": "b6fe0db6-c2f0-4baa-8bc6-cdd575f5a338",
   "metadata": {},
   "source": [
    "  Six comparison operators are : > , < , == , >= , <= , !="
   ]
  },
  {
   "cell_type": "markdown",
   "id": "2da705c5-e678-4cc0-8a6f-951704c247ce",
   "metadata": {},
   "source": [
    "### 6. How do you tell the difference between the equal to and assignment operators?Describe acondition and when you would use one."
   ]
  },
  {
   "cell_type": "markdown",
   "id": "73345ee1-545d-4019-9662-80f971ef6521",
   "metadata": {},
   "source": [
    "Assignment Operator is used when we want to assign a value to variable And equal to operator is used for comparison between two values and it results into Boolean result.\n",
    "For Example:\n"
   ]
  },
  {
   "cell_type": "markdown",
   "id": "54cb3c8e-b4fe-4a8f-8a0e-adefa0401e79",
   "metadata": {},
   "source": [
    "a=10 #This is assignment operator\n"
   ]
  },
  {
   "cell_type": "markdown",
   "id": "e7945fc4-7883-4f2d-9fcc-0b24bedb13b1",
   "metadata": {},
   "source": [
    "b=20 # This is also an assignment operator"
   ]
  },
  {
   "cell_type": "markdown",
   "id": "053fcc07-75f0-484e-8e68-cbdebe9b1fc8",
   "metadata": {},
   "source": [
    "a==b # this is equal to operator for comparison"
   ]
  },
  {
   "cell_type": "markdown",
   "id": "b1d66b59-f549-40c2-b4b9-135e7cef00db",
   "metadata": {
    "tags": []
   },
   "source": [
    "### 7. Identify the three blocks in this code:\n",
    "### spam = 0\n",
    "### if spam == 10:\n",
    "### print(&#39;eggs&#39;)\n",
    "### if spam &gt; 5:\n",
    "### print(&#39;bacon&#39;)\n",
    "### else:\n",
    "### print(&#39;ham&#39;)\n",
    "### print(&#39;spam&#39;)\n",
    "### print(&#39;spam&#39;)"
   ]
  },
  {
   "cell_type": "markdown",
   "id": "2bd10c59-486e-4201-93f4-46e57e8bc46c",
   "metadata": {},
   "source": [
    "three blocks in this code are : 2 if block and one else block"
   ]
  },
  {
   "cell_type": "markdown",
   "id": "d78a8a9c-1060-4ae3-8532-118e9c64ac9b",
   "metadata": {},
   "source": [
    "### 8. Write code that prints Hello if 1 is stored in spam, prints Howdy if 2 is stored in spam, and prints Greetings! if anything else is stored in spam."
   ]
  },
  {
   "cell_type": "code",
   "execution_count": 3,
   "id": "be0601f2-6938-4030-a3ac-d0de4f9a68c3",
   "metadata": {},
   "outputs": [
    {
     "name": "stdin",
     "output_type": "stream",
     "text": [
      " 3\n"
     ]
    },
    {
     "name": "stdout",
     "output_type": "stream",
     "text": [
      "Greetings!\n"
     ]
    }
   ],
   "source": [
    "spam =input()\n",
    "if spam ==1:\n",
    "    print(\"Hello\")\n",
    "elif spam ==2:\n",
    "    print(\"Howdy\")\n",
    "else:\n",
    "    print(\"Greetings!\")"
   ]
  },
  {
   "cell_type": "markdown",
   "id": "c4bfb72f-11cb-4c33-bdf3-765682151797",
   "metadata": {},
   "source": [
    "### 9.If your programme is stuck in an endless loop, what keys you’ll press?"
   ]
  },
  {
   "cell_type": "markdown",
   "id": "136fb5d2-fa2d-49e4-b210-3fc7e8d96300",
   "metadata": {},
   "source": [
    "Press Ctrl+C to stop the endless loop"
   ]
  },
  {
   "cell_type": "markdown",
   "id": "b0040595-b1b3-4e93-bb4e-92a9ce13fb51",
   "metadata": {},
   "source": [
    "### 10. How can you tell the difference between break and continue?\n"
   ]
  },
  {
   "cell_type": "markdown",
   "id": "917739e4-e961-44fb-8738-2cd267842ece",
   "metadata": {},
   "source": [
    "break will use when we want to break the loop it will move the execution outside the loop while continue is use when we want to give the control to the loop itself it will move the execution to the start of the loop "
   ]
  },
  {
   "cell_type": "markdown",
   "id": "e1c8209e-520f-4da9-a3de-f7e8ccaf35cf",
   "metadata": {},
   "source": [
    "### 11. In a for loop, what is the difference between range(10), range(0, 10), and range(0, 10, 1)?"
   ]
  },
  {
   "cell_type": "markdown",
   "id": "b5992328-9fe0-4d21-be22-be17b63c7f2c",
   "metadata": {},
   "source": [
    "there is no difference between these three range(10) will give the range from 0 to 10 excluding 10 ,range(0,10) in this notation we give starting index as well as ending index it will also provide range from 0 to 10 excluding 10 while range(0,10,1) in this we give starting index , ending index,and the step size of 1\n",
    "it will also provide the same range from 0 to 10 excluding 10 "
   ]
  },
  {
   "cell_type": "markdown",
   "id": "1901c382-0c6d-4db4-9040-59ca9760c261",
   "metadata": {},
   "source": [
    "###  12. Write a short program that prints the numbers 1 to 10 using a for loop. Then write an equivalent program that prints the numbers 1 to 10 using a while loop."
   ]
  },
  {
   "cell_type": "code",
   "execution_count": 7,
   "id": "9f2e77ab-8b1e-421b-8f76-aecbab2cbb08",
   "metadata": {},
   "outputs": [
    {
     "name": "stdout",
     "output_type": "stream",
     "text": [
      "1\n",
      "2\n",
      "3\n",
      "4\n",
      "5\n",
      "6\n",
      "7\n",
      "8\n",
      "9\n",
      "10\n"
     ]
    }
   ],
   "source": [
    "for i in range(1,11):\n",
    "    print(i)"
   ]
  },
  {
   "cell_type": "code",
   "execution_count": 8,
   "id": "4c9e032f-d632-4977-93b7-22b91b31a42a",
   "metadata": {},
   "outputs": [
    {
     "name": "stdout",
     "output_type": "stream",
     "text": [
      "1\n",
      "2\n",
      "3\n",
      "4\n",
      "5\n",
      "6\n",
      "7\n",
      "8\n",
      "9\n",
      "10\n"
     ]
    }
   ],
   "source": [
    "i =1\n",
    "while(i<=10):\n",
    "    print(i)\n",
    "    i=i+1"
   ]
  },
  {
   "cell_type": "markdown",
   "id": "3e39ca00-1d2d-4047-9fa5-923b50a1459e",
   "metadata": {},
   "source": [
    "### 13. If you had a function named bacon() inside a module named spam, how would you call it after  importing spam?\n"
   ]
  },
  {
   "cell_type": "markdown",
   "id": "8154b355-40d0-4466-b9c5-ab161f7000ad",
   "metadata": {},
   "source": [
    "This function can be called with spam.bacon()"
   ]
  },
  {
   "cell_type": "code",
   "execution_count": null,
   "id": "5b2a6841-af2a-4bec-afcf-00385f983da2",
   "metadata": {},
   "outputs": [],
   "source": []
  }
 ],
 "metadata": {
  "kernelspec": {
   "display_name": "Python 3 (ipykernel)",
   "language": "python",
   "name": "python3"
  },
  "language_info": {
   "codemirror_mode": {
    "name": "ipython",
    "version": 3
   },
   "file_extension": ".py",
   "mimetype": "text/x-python",
   "name": "python",
   "nbconvert_exporter": "python",
   "pygments_lexer": "ipython3",
   "version": "3.9.12"
  }
 },
 "nbformat": 4,
 "nbformat_minor": 5
}
