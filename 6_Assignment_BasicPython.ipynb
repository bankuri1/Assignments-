{
 "cells": [
  {
   "cell_type": "markdown",
   "id": "d7b4b53f-6e38-4b5b-a526-ca4b0ac8c070",
   "metadata": {},
   "source": [
    "### 1. What are escape characters, and how do you use them?"
   ]
  },
  {
   "cell_type": "markdown",
   "id": "88b524ad-8e72-417b-9f5c-4db2e75255af",
   "metadata": {},
   "source": [
    "Escape characters represent characters in string values that would otherwise be difficult or impossible to type into code.We use them using backslash(\\) before the character."
   ]
  },
  {
   "cell_type": "markdown",
   "id": "597c96ca-24c6-4d27-b8dc-ed8066655417",
   "metadata": {},
   "source": [
    "### 2. What do the escape characters n and t stand for?"
   ]
  },
  {
   "cell_type": "markdown",
   "id": "d87c7b3a-fc54-47d2-8ff8-961db78bd4a9",
   "metadata": {},
   "source": [
    "\\n for new line and \\t for Horizontal tab"
   ]
  },
  {
   "cell_type": "markdown",
   "id": "fdfd33f1-7abc-4a90-b257-b3c206ec05d5",
   "metadata": {},
   "source": [
    "### 3. What is the way to include backslash characters in a string?"
   ]
  },
  {
   "cell_type": "markdown",
   "id": "6bfedd20-940e-4d58-a605-195c198fbecd",
   "metadata": {},
   "source": [
    "It need two backslashes \\\\"
   ]
  },
  {
   "cell_type": "markdown",
   "id": "b545f63e-e49b-4bea-bce2-ef996daf0234",
   "metadata": {},
   "source": [
    "### 4. The string &quot;Howl&#39;s Moving Castle&quot; is a correct value. Why isn&#39;t the single quote character in the word Howl&#39;s not escaped a problem?"
   ]
  },
  {
   "cell_type": "markdown",
   "id": "8c9b5561-cbe9-4022-972f-0e3a414ca7b2",
   "metadata": {},
   "source": [
    "because here double quote is used for specifying beginning and ending of string"
   ]
  },
  {
   "cell_type": "markdown",
   "id": "659a1984-5cfe-4fd1-80e0-807f86465743",
   "metadata": {},
   "source": [
    "###  5. How do you write a string of newlines if you don&#39;t want to use the n character?"
   ]
  },
  {
   "cell_type": "markdown",
   "id": "305746b2-347e-4c0a-943e-bd2f0168b305",
   "metadata": {},
   "source": [
    "Multiline strings allow you to use newlines in strings without the \\n escape character."
   ]
  },
  {
   "cell_type": "markdown",
   "id": "cb10f978-bc0c-433b-8287-7d0497900494",
   "metadata": {},
   "source": [
    "### 6. What are the values of the given expressions?"
   ]
  },
  {
   "cell_type": "markdown",
   "id": "c02ca347-3e80-4c05-a3a3-04f9b350b889",
   "metadata": {},
   "source": [
    "### &#39;Hello, world!&#39;[1]\n"
   ]
  },
  {
   "cell_type": "markdown",
   "id": "b725ab40-98c9-4931-8d88-597fc85bd481",
   "metadata": {},
   "source": [
    "'e'"
   ]
  },
  {
   "cell_type": "markdown",
   "id": "5b334a09-4e7b-48e0-887e-85658ef75280",
   "metadata": {},
   "source": [
    "### &#39;Hello, world!&#39;[0:5]"
   ]
  },
  {
   "cell_type": "markdown",
   "id": "a737b91f-b823-454c-b617-a7df42aaae30",
   "metadata": {},
   "source": [
    "'Hello'"
   ]
  },
  {
   "cell_type": "markdown",
   "id": "8dac3dad-921b-4cc9-be76-8a2b0fb3de2c",
   "metadata": {},
   "source": [
    "### &#39;Hello, world!&#39;[:5]\n"
   ]
  },
  {
   "cell_type": "markdown",
   "id": "9b279c6c-51f1-4cdf-8d9c-54d9db109b5b",
   "metadata": {},
   "source": [
    "'Hello'"
   ]
  },
  {
   "cell_type": "markdown",
   "id": "32eb4dfb-c871-460c-8565-b5e0fa558d12",
   "metadata": {},
   "source": [
    "### &#39;Hello, world!&#39;[3:]"
   ]
  },
  {
   "cell_type": "markdown",
   "id": "6c090788-a0ba-4369-8dec-b6aeda35f58f",
   "metadata": {},
   "source": [
    "'lo, world!'"
   ]
  },
  {
   "cell_type": "markdown",
   "id": "96706245-1d5a-46c0-872a-5bdc183ecf2a",
   "metadata": {},
   "source": [
    "### 7. What are the values of the following expressions?"
   ]
  },
  {
   "cell_type": "markdown",
   "id": "e46808f8-a66f-49bd-91b9-d88accab0ecd",
   "metadata": {},
   "source": [
    "### &#39;Hello&#39;.upper()"
   ]
  },
  {
   "cell_type": "markdown",
   "id": "a210b14a-f723-4e28-af86-4fdcfbdfaef3",
   "metadata": {},
   "source": [
    "'HELLO'"
   ]
  },
  {
   "cell_type": "markdown",
   "id": "a158fd11-6f30-4588-8076-e2c58fbcd3b6",
   "metadata": {},
   "source": [
    "### &#39;Hello&#39;.upper().isupper()"
   ]
  },
  {
   "cell_type": "markdown",
   "id": "3940f95b-a4ce-44b0-84cc-510a24e3a655",
   "metadata": {},
   "source": [
    "True"
   ]
  },
  {
   "cell_type": "markdown",
   "id": "05f55a4d-476f-4df6-85d6-22331303af00",
   "metadata": {},
   "source": [
    "### &#39;Hello&#39;.upper().lower()"
   ]
  },
  {
   "cell_type": "markdown",
   "id": "e72c6821-5427-445f-998f-e563ebd1321a",
   "metadata": {},
   "source": [
    "'hello'"
   ]
  },
  {
   "cell_type": "markdown",
   "id": "55890841-7052-4f12-a054-a5c810c0b9ad",
   "metadata": {},
   "source": [
    "### 8. What are the values of the following expressions?\n",
    "### &#39;Remember, remember, the fifth of July.&#39;.split()\n"
   ]
  },
  {
   "cell_type": "markdown",
   "id": "2af3d6f9-2067-43b2-bfd4-53bfaa4969e1",
   "metadata": {},
   "source": [
    "['Remember,' ,'remember,', 'the', 'fifth', 'of', 'July.']"
   ]
  },
  {
   "cell_type": "markdown",
   "id": "e0037e01-8d6c-4c5a-b034-c89e78c4ecac",
   "metadata": {},
   "source": [
    "### '-'.join('There can be only one.'.split())"
   ]
  },
  {
   "cell_type": "markdown",
   "id": "27d9337e-4009-43f7-ad61-1953f393f772",
   "metadata": {},
   "source": [
    "'There-can-be-only-one.'"
   ]
  },
  {
   "cell_type": "markdown",
   "id": "dc29d7b3-2520-40c7-a3bb-85e065c2a8c2",
   "metadata": {},
   "source": [
    "### 9. What are the methods for right-justifying, left-justifying, and centering a string?"
   ]
  },
  {
   "cell_type": "markdown",
   "id": "eeadb722-8e99-430f-987c-970851296bd2",
   "metadata": {},
   "source": [
    "rjust(),ljust(),center() "
   ]
  },
  {
   "cell_type": "markdown",
   "id": "8b3afac9-32cd-4448-aa51-c624145b88fb",
   "metadata": {},
   "source": [
    "### 10. What is the best way to remove whitespace characters from the start or end?"
   ]
  },
  {
   "cell_type": "markdown",
   "id": "d0a7cb70-3abe-4671-a0e2-0075e0d5121d",
   "metadata": {},
   "source": [
    "lstrip() and rstrip() methods will remove the white spaces from the start or end of the string"
   ]
  }
 ],
 "metadata": {
  "kernelspec": {
   "display_name": "Python 3 (ipykernel)",
   "language": "python",
   "name": "python3"
  },
  "language_info": {
   "codemirror_mode": {
    "name": "ipython",
    "version": 3
   },
   "file_extension": ".py",
   "mimetype": "text/x-python",
   "name": "python",
   "nbconvert_exporter": "python",
   "pygments_lexer": "ipython3",
   "version": "3.9.12"
  }
 },
 "nbformat": 4,
 "nbformat_minor": 5
}
