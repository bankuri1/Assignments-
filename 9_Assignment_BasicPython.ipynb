{
 "cells": [
  {
   "cell_type": "markdown",
   "id": "89cf6ed1-99d4-4da7-ba35-d95b2c6e57e5",
   "metadata": {},
   "source": [
    "### 1. To what does a relative path refer?"
   ]
  },
  {
   "cell_type": "markdown",
   "id": "9f7ff4ea-3f15-44b1-b0cc-5916f23df8de",
   "metadata": {},
   "source": [
    "The relative path is the path of some file with respect to your current working directory(pwd)\n",
    "For Example:if Absolute path to a file called stuff.txt is C:/users/admin/docs/stuff.txt If my pwd is C:/users/admin then the relative path to the stuff.txt would be docs/stuff.txt\n",
    "Note: PWD + relative path = absolute path"
   ]
  },
  {
   "cell_type": "markdown",
   "id": "02141424-a145-413d-9ed2-cee7832ce280",
   "metadata": {},
   "source": [
    "### 2. What does an absolute path start with your operating system?"
   ]
  },
  {
   "cell_type": "markdown",
   "id": "c43127d9-cd0c-45ae-8dc2-fc08afa6efb3",
   "metadata": {},
   "source": [
    "In linux based system the absolute path starts with / , whereas in windows based system  the absolute path starts with C:"
   ]
  },
  {
   "cell_type": "markdown",
   "id": "e0ebb062-1d67-4450-b87f-8bd0c00dbf93",
   "metadata": {},
   "source": [
    "### 3. What do the functions os.getcwd() and os.chdir() do?"
   ]
  },
  {
   "cell_type": "markdown",
   "id": "c435fcaa-1f80-4eb5-8855-0260ee5eb14a",
   "metadata": {},
   "source": [
    "os.getcwd() method tell us the location of current working directory(CWD).whereas os.chdir() method in python used to change the current working directory to specified path. These functions are similar to linux commands pwd and cd."
   ]
  },
  {
   "cell_type": "code",
   "execution_count": 2,
   "id": "d5ce8dee-98df-4353-9637-6f6d0346d37d",
   "metadata": {},
   "outputs": [
    {
     "name": "stdout",
     "output_type": "stream",
     "text": [
      "C:\\Users\\Owner\n",
      "E:\\Bankuri\n"
     ]
    }
   ],
   "source": [
    "import os\n",
    "print(os.getcwd())\n",
    "path = r'E:\\Bankuri'\n",
    "os.chdir(path)\n",
    "print(os.getcwd())"
   ]
  },
  {
   "cell_type": "markdown",
   "id": "390dd0af-660b-4143-99bd-9ded6dd0d394",
   "metadata": {},
   "source": [
    "### 4. What are the . and .. folders?"
   ]
  },
  {
   "cell_type": "markdown",
   "id": "78d7b837-a9e9-43c6-ad30-bbacac358e6f",
   "metadata": {},
   "source": [
    ". represent Current Working Directory whereas .. represent Parent Directory of Current Directory.\n"
   ]
  },
  {
   "cell_type": "markdown",
   "id": "c0482d78-0c4a-48be-80ad-44687f4fd638",
   "metadata": {},
   "source": [
    "For Example :\n",
    "if the absolute path  is C:\\\\Users\\\\Owner\\\\Workspace\\\\Assignment\n",
    "Then . represent C:\\\\Users\\\\Owner\\\\Workspace\\\\Assignment whereas,\n",
    ".. represent C:\\\\Users\\\\Owner\\\\Workspace"
   ]
  },
  {
   "cell_type": "markdown",
   "id": "0f531921-882a-4a1a-9098-b63bfc40c233",
   "metadata": {},
   "source": [
    "### 5. In C:\\bacon\\eggs\\spam.txt, which part is the dir name, and which part is the base name?"
   ]
  },
  {
   "cell_type": "raw",
   "id": "bef6c2e1-9791-48ab-bc30-032e51f10175",
   "metadata": {},
   "source": [
    "For C:\\bacon\\eggs\\spam.txt\n",
    "The dir name is C:\\\\bacon\\\\eggs\n",
    "The Base name is spam.txt"
   ]
  },
  {
   "cell_type": "code",
   "execution_count": 3,
   "id": "92af1a28-852c-4765-bd6f-7becc06c2161",
   "metadata": {},
   "outputs": [
    {
     "name": "stdout",
     "output_type": "stream",
     "text": [
      "C:\\bacon\\eggs\n",
      "spam.txt\n"
     ]
    }
   ],
   "source": [
    "import os\n",
    "path =r'C:\\bacon\\eggs\\spam.txt'\n",
    "print(os.path.dirname(path))\n",
    "print(os.path.basename(path))"
   ]
  },
  {
   "cell_type": "markdown",
   "id": "b9241c35-1dce-4dd7-b8fe-97db17c591fd",
   "metadata": {},
   "source": [
    "### 6. What are the three “mode” arguments that can be passed to the open() function?"
   ]
  },
  {
   "cell_type": "markdown",
   "id": "40ae2607-d4ea-48de-8d3b-1ec5310fa32c",
   "metadata": {},
   "source": [
    "A file can be Accessed in python using open() function. open function takes two arguments filename and mode of operation (optional). if mode is not provided the default mode of opening is read mode\n",
    "So, the syntax being: open(filename, mode)\n",
    "\n"
   ]
  },
  {
   "cell_type": "raw",
   "id": "ca59bfcc-7715-4d30-8b18-456f995a32cd",
   "metadata": {},
   "source": [
    "‘r’ – Read Mode: This is the default mode for open(). The file is opened and a pointer is positioned at the beginning of the file’s content.\n",
    "‘w’ – Write Mode: Using this mode will overwrite any existing content in a file. If the given file does not exist, a new one will be created.\n",
    "‘r+’ – Read/Write Mode: Use this mode if you need to simultaneously read and write to a file.\n",
    "‘a’ – Append Mode: With this mode the user can append the data without overwriting any already existing data in the file.\n",
    "‘a+’ – Append and Read Mode: In this mode you can read and append the data without overwriting the original file.\n",
    "‘x’ – Exclusive Creating Mode: This mode is for the sole purpose of creating new files. Use this mode if you know the file to be written doesn’t exist beforehand."
   ]
  },
  {
   "cell_type": "markdown",
   "id": "37bb53c8-e4f9-456c-857c-853c958748be",
   "metadata": {},
   "source": [
    "### 7. What happens if an existing file is opened in write mode?"
   ]
  },
  {
   "cell_type": "markdown",
   "id": "f05ecae8-55b8-43eb-b5a7-30e4c0fbdf17",
   "metadata": {},
   "source": [
    "Using this mode will overwrite any existing content in a file.If the given file doesn't exist,a new one will be created."
   ]
  },
  {
   "cell_type": "markdown",
   "id": "e8ea715f-65e6-4a5f-8bb8-1bc85a2949b5",
   "metadata": {},
   "source": [
    "### 8. How do you tell the difference between read() and readlines()?"
   ]
  },
  {
   "cell_type": "markdown",
   "id": "83d5752a-adf5-4ce1-b22d-155df39f8153",
   "metadata": {},
   "source": [
    "The main difference is that read() will read the whole file at once and then print out the first characters that take up as many bytes as you specify in the parenthesis Whereas the readline() that will read and print out only the first characters that take up as many bytes as you specify in the parenthesis. You may want to use readline() when you're reading files that are too big for your RAM.\n",
    "The read() would treat each character in the file separately, meaning that the iteration would happen for every character.\n",
    "The readline() function, on the other hand, only reads a single line of the file. This means that if the first line of the file were three lines long, the readline() function would only parse (or iterate/operate) on the first line of the file."
   ]
  },
  {
   "cell_type": "markdown",
   "id": "53e8a86a-de7e-428e-ac82-0006692b19e5",
   "metadata": {},
   "source": [
    "### 9. What data structure does a shelf value resemble?"
   ]
  },
  {
   "cell_type": "markdown",
   "id": "909c542b-94e0-46c0-896f-c1f7f3fa018c",
   "metadata": {},
   "source": [
    " It contains key and values it represents dictionary."
   ]
  }
 ],
 "metadata": {
  "kernelspec": {
   "display_name": "Python 3 (ipykernel)",
   "language": "python",
   "name": "python3"
  },
  "language_info": {
   "codemirror_mode": {
    "name": "ipython",
    "version": 3
   },
   "file_extension": ".py",
   "mimetype": "text/x-python",
   "name": "python",
   "nbconvert_exporter": "python",
   "pygments_lexer": "ipython3",
   "version": "3.9.12"
  }
 },
 "nbformat": 4,
 "nbformat_minor": 5
}
